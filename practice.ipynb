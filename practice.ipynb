{
 "cells": [
  {
   "cell_type": "code",
   "execution_count": 1,
   "id": "be767070",
   "metadata": {
    "scrolled": false
   },
   "outputs": [
    {
     "name": "stdout",
     "output_type": "stream",
     "text": [
      "Defaulting to user installation because normal site-packages is not writeable\n",
      "Requirement already satisfied: numpy in c:\\users\\nikhileswari puvvula\\appdata\\roaming\\python\\python310\\site-packages (1.24.3)\n"
     ]
    }
   ],
   "source": [
    "!pip install numpy\n"
   ]
  },
  {
   "cell_type": "code",
   "execution_count": 2,
   "id": "f520a72c",
   "metadata": {},
   "outputs": [
    {
     "name": "stdout",
     "output_type": "stream",
     "text": [
      "Defaulting to user installation because normal site-packages is not writeable\n",
      "Requirement already satisfied: numpy in c:\\users\\nikhileswari puvvula\\appdata\\roaming\\python\\python310\\site-packages (1.24.3)\n",
      "Note: you may need to restart the kernel to use updated packages.\n"
     ]
    }
   ],
   "source": [
    "pip install numpy"
   ]
  },
  {
   "cell_type": "code",
   "execution_count": 4,
   "id": "40d6c297",
   "metadata": {},
   "outputs": [
    {
     "name": "stdout",
     "output_type": "stream",
     "text": [
      "4\n",
      "0\n",
      "1\n",
      "2\n"
     ]
    }
   ],
   "source": [
    "import numpy as np\n",
    "arr = np.array([1,2,3,4])\n",
    "arr1=np.array(4)\n",
    "print(arr1)\n",
    "print(arr1.ndim)\n",
    "arr2=np.array([3,4,5,6])\n",
    "print(arr2.ndim)\n",
    "arr3=np.array([[2,3,4],[5,6,7]])\n",
    "print(arr3.ndim)"
   ]
  },
  {
   "cell_type": "markdown",
   "id": "b2a30705",
   "metadata": {},
   "source": [
    "# shape and resize"
   ]
  },
  {
   "cell_type": "code",
   "execution_count": 3,
   "id": "f42fe427",
   "metadata": {},
   "outputs": [
    {
     "name": "stdout",
     "output_type": "stream",
     "text": [
      "()\n"
     ]
    }
   ],
   "source": [
    "import numpy as np\n",
    "arr = np.array([55,42,67])\n",
    "a=np.array(42)\n",
    "print(a.shape)"
   ]
  },
  {
   "cell_type": "code",
   "execution_count": 4,
   "id": "d1770814",
   "metadata": {},
   "outputs": [
    {
     "name": "stdout",
     "output_type": "stream",
     "text": [
      "(3,)\n"
     ]
    }
   ],
   "source": [
    "import numpy as np\n",
    "arr = np.array([55,42,67])\n",
    "a=np.array(42)\n",
    "print(arr.shape)"
   ]
  },
  {
   "cell_type": "code",
   "execution_count": 5,
   "id": "9afe3ba1",
   "metadata": {},
   "outputs": [
    {
     "name": "stdout",
     "output_type": "stream",
     "text": [
      "[[55 42]\n",
      " [67 76]]\n"
     ]
    }
   ],
   "source": [
    "import numpy as np\n",
    "arr = np.array([55,42,67,76])\n",
    "new_arr = arr.reshape(2,2)\n",
    "print(new_arr)"
   ]
  },
  {
   "cell_type": "code",
   "execution_count": 8,
   "id": "1cbaea5e",
   "metadata": {},
   "outputs": [
    {
     "name": "stdout",
     "output_type": "stream",
     "text": [
      "[[55 42]\n",
      " [67 76]]\n",
      "[55 42 67 76]\n"
     ]
    }
   ],
   "source": [
    "import numpy as np\n",
    "arr = np.array([55,42,67,76])\n",
    "new_arr = arr.reshape(2,2)\n",
    "print(new_arr)\n",
    "arr1=new_arr.reshape(-1)\n",
    "print(arr1)"
   ]
  },
  {
   "cell_type": "code",
   "execution_count": 1,
   "id": "078af864",
   "metadata": {},
   "outputs": [
    {
     "name": "stdout",
     "output_type": "stream",
     "text": [
      "[2]\n"
     ]
    }
   ],
   "source": [
    "import numpy as np\n",
    "arr = np.array([1,2,3,4,5])\n",
    "print(arr[1:2])"
   ]
  },
  {
   "cell_type": "code",
   "execution_count": 2,
   "id": "643e3b12",
   "metadata": {},
   "outputs": [
    {
     "name": "stdout",
     "output_type": "stream",
     "text": [
      "[2 3 4 5]\n"
     ]
    }
   ],
   "source": [
    "import numpy as np\n",
    "arr = np.array([1,2,3,4,5])\n",
    "print(arr[1:])"
   ]
  },
  {
   "cell_type": "code",
   "execution_count": 3,
   "id": "a02b2f74",
   "metadata": {},
   "outputs": [
    {
     "name": "stdout",
     "output_type": "stream",
     "text": [
      "[1 2 3 4 5]\n"
     ]
    }
   ],
   "source": [
    "import numpy as np\n",
    "arr = np.array([1,2,3,4,5])\n",
    "print(arr[:])"
   ]
  },
  {
   "cell_type": "markdown",
   "id": "f214eb34",
   "metadata": {},
   "source": [
    "# 2D ARRAY"
   ]
  },
  {
   "cell_type": "code",
   "execution_count": 4,
   "id": "f0f6f552",
   "metadata": {},
   "outputs": [
    {
     "name": "stdout",
     "output_type": "stream",
     "text": [
      "[7 8 9]\n"
     ]
    }
   ],
   "source": [
    "import numpy as np\n",
    "arr = np.array([[1,2,3,4,5],[6,7,8,9,10]])\n",
    "print(arr[1,1:4])"
   ]
  },
  {
   "cell_type": "code",
   "execution_count": 5,
   "id": "3bd71afb",
   "metadata": {},
   "outputs": [
    {
     "name": "stdout",
     "output_type": "stream",
     "text": [
      "[2 3 4]\n"
     ]
    }
   ],
   "source": [
    "import numpy as np\n",
    "arr = np.array([[1,2,3,4,5],[6,7,8,9,10]])\n",
    "print(arr[0,1:4])"
   ]
  },
  {
   "cell_type": "code",
   "execution_count": 6,
   "id": "31043cb6",
   "metadata": {},
   "outputs": [
    {
     "name": "stdout",
     "output_type": "stream",
     "text": [
      "[ 6  7  8  9 10]\n"
     ]
    }
   ],
   "source": [
    "import numpy as np\n",
    "arr = np.array([[1,2,3,4,5],[6,7,8,9,10]])\n",
    "print(arr[1,:])"
   ]
  },
  {
   "cell_type": "markdown",
   "id": "ac588e36",
   "metadata": {},
   "source": [
    "# SEARCHING AND SORTING"
   ]
  },
  {
   "cell_type": "code",
   "execution_count": 7,
   "id": "ff16e800",
   "metadata": {},
   "outputs": [
    {
     "name": "stdout",
     "output_type": "stream",
     "text": [
      "(array([2], dtype=int64),)\n"
     ]
    }
   ],
   "source": [
    "import numpy as np\n",
    "arr = np.array([45,65,32,89,40])\n",
    "x = np.where(arr==32)\n",
    "print(x)"
   ]
  },
  {
   "cell_type": "code",
   "execution_count": 8,
   "id": "aa5bb0cd",
   "metadata": {},
   "outputs": [
    {
     "name": "stdout",
     "output_type": "stream",
     "text": [
      "[32 40 45 65 89]\n"
     ]
    }
   ],
   "source": [
    "import numpy as np\n",
    "arr = np.array([45,65,32,89,40])\n",
    "x = np.sort(arr)\n",
    "print(x)"
   ]
  },
  {
   "cell_type": "code",
   "execution_count": 9,
   "id": "fdac1fb9",
   "metadata": {},
   "outputs": [
    {
     "name": "stdout",
     "output_type": "stream",
     "text": [
      "(array([2, 4], dtype=int64),)\n"
     ]
    }
   ],
   "source": [
    "import numpy as np\n",
    "arr = np.array([45,65,32,89,40])\n",
    "x = np.where(arr%2==0)\n",
    "print(x)"
   ]
  },
  {
   "cell_type": "code",
   "execution_count": 10,
   "id": "2b4b05dc",
   "metadata": {},
   "outputs": [
    {
     "name": "stdout",
     "output_type": "stream",
     "text": [
      "[32 40]\n"
     ]
    }
   ],
   "source": [
    "import numpy as np\n",
    "arr = np.array([45,65,32,89,40])\n",
    "x = np.where(arr%2==0)\n",
    "print(arr[x])"
   ]
  },
  {
   "cell_type": "code",
   "execution_count": 1,
   "id": "106f5cb1",
   "metadata": {},
   "outputs": [
    {
     "name": "stdout",
     "output_type": "stream",
     "text": [
      "Defaulting to user installation because normal site-packages is not writeable\n",
      "Collecting pandas\n",
      "  Downloading pandas-2.0.2-cp310-cp310-win_amd64.whl (10.7 MB)\n",
      "                                              0.0/10.7 MB ? eta -:--:--\n",
      "                                              0.0/10.7 MB 1.3 MB/s eta 0:00:09\n",
      "                                             0.1/10.7 MB 656.4 kB/s eta 0:00:17\n",
      "                                             0.1/10.7 MB 651.6 kB/s eta 0:00:17\n",
      "                                             0.1/10.7 MB 581.0 kB/s eta 0:00:19\n",
      "                                             0.1/10.7 MB 544.7 kB/s eta 0:00:20\n",
      "                                             0.2/10.7 MB 546.6 kB/s eta 0:00:20\n",
      "                                             0.2/10.7 MB 523.5 kB/s eta 0:00:21\n",
      "                                             0.2/10.7 MB 535.8 kB/s eta 0:00:20\n",
      "                                             0.2/10.7 MB 518.8 kB/s eta 0:00:21\n",
      "                                             0.2/10.7 MB 474.7 kB/s eta 0:00:22\n",
      "                                             0.2/10.7 MB 471.0 kB/s eta 0:00:23\n",
      "     -                                       0.3/10.7 MB 486.7 kB/s eta 0:00:22\n",
      "     -                                       0.3/10.7 MB 513.8 kB/s eta 0:00:21\n",
      "     -                                       0.3/10.7 MB 513.8 kB/s eta 0:00:21\n",
      "     -                                       0.4/10.7 MB 518.1 kB/s eta 0:00:20\n",
      "     -                                       0.4/10.7 MB 543.3 kB/s eta 0:00:19\n",
      "     -                                       0.5/10.7 MB 616.2 kB/s eta 0:00:17\n",
      "     -                                       0.5/10.7 MB 618.4 kB/s eta 0:00:17\n",
      "     --                                      0.6/10.7 MB 643.7 kB/s eta 0:00:16\n",
      "     --                                      0.6/10.7 MB 643.6 kB/s eta 0:00:16\n",
      "     --                                      0.6/10.7 MB 643.6 kB/s eta 0:00:16\n",
      "     --                                      0.6/10.7 MB 643.6 kB/s eta 0:00:16\n",
      "     ---                                     0.8/10.7 MB 814.4 kB/s eta 0:00:13\n",
      "     ---                                     0.9/10.7 MB 802.6 kB/s eta 0:00:13\n",
      "     ---                                     0.9/10.7 MB 801.0 kB/s eta 0:00:13\n",
      "     ---                                     0.9/10.7 MB 786.3 kB/s eta 0:00:13\n",
      "     ---                                     0.9/10.7 MB 786.3 kB/s eta 0:00:13\n",
      "     ---                                     1.0/10.7 MB 734.2 kB/s eta 0:00:14\n",
      "     ---                                     1.0/10.7 MB 740.9 kB/s eta 0:00:14\n",
      "     ---                                     1.0/10.7 MB 731.4 kB/s eta 0:00:14\n",
      "     ---                                     1.0/10.7 MB 721.4 kB/s eta 0:00:14\n",
      "     ---                                     1.0/10.7 MB 704.7 kB/s eta 0:00:14\n",
      "     ---                                     1.0/10.7 MB 689.5 kB/s eta 0:00:14\n",
      "     ---                                     1.1/10.7 MB 674.8 kB/s eta 0:00:15\n",
      "     ---                                     1.1/10.7 MB 668.1 kB/s eta 0:00:15\n",
      "     ----                                    1.1/10.7 MB 655.5 kB/s eta 0:00:15\n",
      "     ----                                    1.1/10.7 MB 661.4 kB/s eta 0:00:15\n",
      "     ----                                    1.1/10.7 MB 649.5 kB/s eta 0:00:15\n",
      "     ----                                    1.2/10.7 MB 638.2 kB/s eta 0:00:15\n",
      "     ----                                    1.2/10.7 MB 643.9 kB/s eta 0:00:15\n",
      "     ----                                    1.2/10.7 MB 633.5 kB/s eta 0:00:15\n",
      "     ----                                    1.2/10.7 MB 628.8 kB/s eta 0:00:15\n",
      "     ----                                    1.3/10.7 MB 634.5 kB/s eta 0:00:15\n",
      "     ----                                    1.3/10.7 MB 630.2 kB/s eta 0:00:15\n",
      "     ----                                    1.3/10.7 MB 635.3 kB/s eta 0:00:15\n",
      "     ----                                    1.3/10.7 MB 630.9 kB/s eta 0:00:15\n",
      "     -----                                   1.4/10.7 MB 631.7 kB/s eta 0:00:15\n",
      "     -----                                   1.4/10.7 MB 631.8 kB/s eta 0:00:15\n",
      "     -----                                   1.4/10.7 MB 637.2 kB/s eta 0:00:15\n",
      "     -----                                   1.5/10.7 MB 641.9 kB/s eta 0:00:15\n",
      "     -----                                   1.5/10.7 MB 646.5 kB/s eta 0:00:15\n",
      "     -----                                   1.5/10.7 MB 646.7 kB/s eta 0:00:15\n",
      "     -----                                   1.5/10.7 MB 646.7 kB/s eta 0:00:15\n",
      "     -----                                   1.6/10.7 MB 634.6 kB/s eta 0:00:15\n",
      "     -----                                   1.6/10.7 MB 639.2 kB/s eta 0:00:15\n",
      "     ------                                  1.7/10.7 MB 639.5 kB/s eta 0:00:15\n",
      "     ------                                  1.7/10.7 MB 647.4 kB/s eta 0:00:14\n",
      "     ------                                  1.8/10.7 MB 651.5 kB/s eta 0:00:14\n",
      "     ------                                  1.8/10.7 MB 666.6 kB/s eta 0:00:14\n",
      "     ------                                  1.9/10.7 MB 677.7 kB/s eta 0:00:13\n",
      "     -------                                 1.9/10.7 MB 681.0 kB/s eta 0:00:13\n",
      "     -------                                 2.0/10.7 MB 698.2 kB/s eta 0:00:13\n",
      "     -------                                 2.1/10.7 MB 715.3 kB/s eta 0:00:12\n",
      "     --------                                2.2/10.7 MB 745.5 kB/s eta 0:00:12\n",
      "     --------                                2.3/10.7 MB 764.6 kB/s eta 0:00:11\n",
      "     --------                                2.4/10.7 MB 773.7 kB/s eta 0:00:11\n",
      "     --------                                2.4/10.7 MB 784.4 kB/s eta 0:00:11\n",
      "     ---------                               2.5/10.7 MB 808.5 kB/s eta 0:00:11\n",
      "     ---------                               2.6/10.7 MB 818.3 kB/s eta 0:00:10\n",
      "     ---------                               2.6/10.7 MB 818.3 kB/s eta 0:00:10\n",
      "     ---------                               2.6/10.7 MB 818.3 kB/s eta 0:00:10\n",
      "     ---------                               2.6/10.7 MB 818.3 kB/s eta 0:00:10\n",
      "     ----------                              2.9/10.7 MB 868.6 kB/s eta 0:00:09\n",
      "     -----------                             3.0/10.7 MB 880.9 kB/s eta 0:00:09\n",
      "     -----------                             3.1/10.7 MB 892.6 kB/s eta 0:00:09\n",
      "     -----------                             3.2/10.7 MB 901.1 kB/s eta 0:00:09\n",
      "     -----------                             3.2/10.7 MB 912.3 kB/s eta 0:00:09\n",
      "     ------------                            3.3/10.7 MB 923.1 kB/s eta 0:00:08\n",
      "     ------------                            3.4/10.7 MB 930.9 kB/s eta 0:00:08\n",
      "     ------------                            3.4/10.7 MB 931.4 kB/s eta 0:00:08\n",
      "     ------------                            3.5/10.7 MB 929.4 kB/s eta 0:00:08\n",
      "     ------------                            3.5/10.7 MB 931.6 kB/s eta 0:00:08\n",
      "     -------------                           3.6/10.7 MB 936.3 kB/s eta 0:00:08\n",
      "     -------------                           3.6/10.7 MB 938.1 kB/s eta 0:00:08\n",
      "     -------------                           3.7/10.7 MB 938.5 kB/s eta 0:00:08\n",
      "     -------------                           3.7/10.7 MB 938.5 kB/s eta 0:00:08\n",
      "     -------------                           3.7/10.7 MB 938.5 kB/s eta 0:00:08\n",
      "     --------------                          3.8/10.7 MB 942.6 kB/s eta 0:00:08\n",
      "     --------------                          3.9/10.7 MB 940.5 kB/s eta 0:00:08\n",
      "     --------------                          3.9/10.7 MB 938.4 kB/s eta 0:00:08\n",
      "     --------------                          3.9/10.7 MB 938.4 kB/s eta 0:00:08\n",
      "     --------------                          3.9/10.7 MB 938.4 kB/s eta 0:00:08\n",
      "     --------------                          4.1/10.7 MB 941.3 kB/s eta 0:00:08\n",
      "     ---------------                         4.1/10.7 MB 950.0 kB/s eta 0:00:07\n",
      "     ---------------                         4.2/10.7 MB 951.2 kB/s eta 0:00:07\n",
      "     ---------------                         4.2/10.7 MB 951.2 kB/s eta 0:00:07\n",
      "     ---------------                         4.3/10.7 MB 947.5 kB/s eta 0:00:07\n",
      "     ----------------                        4.4/10.7 MB 976.2 kB/s eta 0:00:07\n",
      "     ----------------                        4.5/10.7 MB 973.0 kB/s eta 0:00:07\n",
      "     ----------------                        4.5/10.7 MB 973.0 kB/s eta 0:00:07\n",
      "     ----------------                        4.5/10.7 MB 973.0 kB/s eta 0:00:07\n",
      "     -----------------                       4.6/10.7 MB 983.0 kB/s eta 0:00:07\n",
      "     -----------------                       4.8/10.7 MB 998.1 kB/s eta 0:00:06\n",
      "     -----------------                       4.8/10.7 MB 999.0 kB/s eta 0:00:06\n",
      "     -----------------                       4.8/10.7 MB 999.0 kB/s eta 0:00:06\n",
      "     -----------------                       4.8/10.7 MB 999.0 kB/s eta 0:00:06\n",
      "     ------------------                       5.1/10.7 MB 1.0 MB/s eta 0:00:06\n",
      "     -------------------                      5.1/10.7 MB 1.0 MB/s eta 0:00:06\n",
      "     -------------------                      5.1/10.7 MB 1.0 MB/s eta 0:00:06\n",
      "     -------------------                      5.1/10.7 MB 1.0 MB/s eta 0:00:06\n",
      "     -------------------                      5.1/10.7 MB 1.0 MB/s eta 0:00:06\n",
      "     --------------------                     5.5/10.7 MB 1.1 MB/s eta 0:00:05\n",
      "     --------------------                     5.5/10.7 MB 1.1 MB/s eta 0:00:05\n",
      "     --------------------                     5.5/10.7 MB 1.1 MB/s eta 0:00:05\n",
      "     --------------------                     5.5/10.7 MB 1.1 MB/s eta 0:00:05\n",
      "     --------------------                     5.5/10.7 MB 1.1 MB/s eta 0:00:05\n",
      "     --------------------                     5.5/10.7 MB 1.1 MB/s eta 0:00:05\n",
      "     ---------------------                    5.8/10.7 MB 1.1 MB/s eta 0:00:05\n",
      "     ---------------------                    5.8/10.7 MB 1.1 MB/s eta 0:00:05\n",
      "     ---------------------                    5.8/10.7 MB 1.1 MB/s eta 0:00:05\n",
      "     ---------------------                    5.9/10.7 MB 1.0 MB/s eta 0:00:05\n",
      "     ---------------------                    5.9/10.7 MB 1.0 MB/s eta 0:00:05\n",
      "     ---------------------                    5.9/10.7 MB 1.0 MB/s eta 0:00:05\n",
      "     ---------------------                    5.9/10.7 MB 1.0 MB/s eta 0:00:05\n",
      "     ---------------------                    5.9/10.7 MB 1.0 MB/s eta 0:00:05\n",
      "     ----------------------                   6.0/10.7 MB 1.0 MB/s eta 0:00:05\n",
      "     ----------------------                   6.0/10.7 MB 1.0 MB/s eta 0:00:05\n",
      "     ----------------------                   6.1/10.7 MB 1.0 MB/s eta 0:00:05\n",
      "     ----------------------                   6.1/10.7 MB 1.0 MB/s eta 0:00:05\n",
      "     ----------------------                   6.1/10.7 MB 1.0 MB/s eta 0:00:05\n",
      "     -----------------------                  6.2/10.7 MB 1.0 MB/s eta 0:00:05\n",
      "     -----------------------                  6.2/10.7 MB 1.0 MB/s eta 0:00:05\n",
      "     -----------------------                  6.2/10.7 MB 1.0 MB/s eta 0:00:05\n",
      "     -----------------------                  6.2/10.7 MB 1.0 MB/s eta 0:00:05\n",
      "     ------------------------                 6.4/10.7 MB 1.0 MB/s eta 0:00:05\n",
      "     ------------------------                 6.4/10.7 MB 1.0 MB/s eta 0:00:05\n",
      "     ------------------------                 6.5/10.7 MB 1.0 MB/s eta 0:00:05\n",
      "     ------------------------                 6.5/10.7 MB 1.0 MB/s eta 0:00:05\n",
      "     ------------------------                 6.5/10.7 MB 1.0 MB/s eta 0:00:05\n",
      "     -------------------------                6.7/10.7 MB 1.0 MB/s eta 0:00:04\n",
      "     -------------------------                6.7/10.7 MB 1.0 MB/s eta 0:00:04\n",
      "     -------------------------                6.7/10.7 MB 1.0 MB/s eta 0:00:04\n",
      "     -------------------------                6.7/10.7 MB 1.0 MB/s eta 0:00:04\n",
      "     -------------------------                6.7/10.7 MB 1.0 MB/s eta 0:00:04\n",
      "     -------------------------                6.9/10.7 MB 1.0 MB/s eta 0:00:04\n",
      "     --------------------------               6.9/10.7 MB 1.0 MB/s eta 0:00:04\n",
      "     --------------------------               7.0/10.7 MB 1.0 MB/s eta 0:00:04\n",
      "     --------------------------               7.0/10.7 MB 1.0 MB/s eta 0:00:04\n",
      "     --------------------------               7.0/10.7 MB 1.0 MB/s eta 0:00:04\n",
      "     --------------------------               7.1/10.7 MB 1.0 MB/s eta 0:00:04\n",
      "     --------------------------               7.1/10.7 MB 1.0 MB/s eta 0:00:04\n",
      "     --------------------------               7.1/10.7 MB 1.0 MB/s eta 0:00:04\n",
      "     --------------------------               7.1/10.7 MB 1.0 MB/s eta 0:00:04\n",
      "     ---------------------------              7.4/10.7 MB 1.0 MB/s eta 0:00:04\n",
      "     ---------------------------              7.4/10.7 MB 1.0 MB/s eta 0:00:04\n",
      "     ---------------------------              7.4/10.7 MB 1.0 MB/s eta 0:00:04\n",
      "     ---------------------------              7.4/10.7 MB 1.0 MB/s eta 0:00:04\n",
      "     ---------------------------              7.4/10.7 MB 1.0 MB/s eta 0:00:04\n",
      "     ----------------------------             7.6/10.7 MB 1.0 MB/s eta 0:00:03\n",
      "     ----------------------------             7.6/10.7 MB 1.0 MB/s eta 0:00:03\n",
      "     ----------------------------             7.7/10.7 MB 1.0 MB/s eta 0:00:03\n",
      "     ----------------------------             7.7/10.7 MB 1.0 MB/s eta 0:00:03\n",
      "     ----------------------------             7.7/10.7 MB 1.0 MB/s eta 0:00:03\n",
      "     -----------------------------            7.9/10.7 MB 1.0 MB/s eta 0:00:03\n",
      "     -----------------------------            7.9/10.7 MB 1.0 MB/s eta 0:00:03\n",
      "     -----------------------------            8.0/10.7 MB 1.0 MB/s eta 0:00:03\n",
      "     -----------------------------            8.0/10.7 MB 1.0 MB/s eta 0:00:03\n",
      "     ------------------------------           8.1/10.7 MB 1.0 MB/s eta 0:00:03\n",
      "     ------------------------------           8.2/10.7 MB 1.1 MB/s eta 0:00:03\n",
      "     ------------------------------           8.2/10.7 MB 1.0 MB/s eta 0:00:03\n",
      "     -------------------------------          8.3/10.7 MB 1.1 MB/s eta 0:00:03\n",
      "     -------------------------------          8.3/10.7 MB 1.1 MB/s eta 0:00:03\n",
      "     -------------------------------          8.4/10.7 MB 1.0 MB/s eta 0:00:03\n",
      "     -------------------------------          8.5/10.7 MB 1.1 MB/s eta 0:00:03\n",
      "     --------------------------------         8.5/10.7 MB 1.1 MB/s eta 0:00:03\n",
      "     --------------------------------         8.5/10.7 MB 1.1 MB/s eta 0:00:03\n",
      "     --------------------------------         8.5/10.7 MB 1.1 MB/s eta 0:00:03\n",
      "     --------------------------------         8.7/10.7 MB 1.1 MB/s eta 0:00:02\n",
      "     --------------------------------         8.7/10.7 MB 1.1 MB/s eta 0:00:02\n",
      "     ---------------------------------        8.8/10.7 MB 1.1 MB/s eta 0:00:02\n",
      "     ---------------------------------        8.8/10.7 MB 1.1 MB/s eta 0:00:02\n",
      "     ---------------------------------        8.8/10.7 MB 1.1 MB/s eta 0:00:02\n",
      "     ---------------------------------        9.0/10.7 MB 1.1 MB/s eta 0:00:02\n",
      "     ---------------------------------        9.0/10.7 MB 1.1 MB/s eta 0:00:02\n",
      "     ----------------------------------       9.1/10.7 MB 1.1 MB/s eta 0:00:02\n",
      "     ----------------------------------       9.1/10.7 MB 1.1 MB/s eta 0:00:02\n",
      "     ----------------------------------       9.1/10.7 MB 1.1 MB/s eta 0:00:02\n",
      "     ----------------------------------       9.3/10.7 MB 1.1 MB/s eta 0:00:02\n",
      "     -----------------------------------      9.3/10.7 MB 1.1 MB/s eta 0:00:02\n",
      "     -----------------------------------      9.3/10.7 MB 1.1 MB/s eta 0:00:02\n",
      "     -----------------------------------      9.3/10.7 MB 1.1 MB/s eta 0:00:02\n",
      "     -----------------------------------      9.5/10.7 MB 1.1 MB/s eta 0:00:02\n",
      "     -----------------------------------      9.6/10.7 MB 1.1 MB/s eta 0:00:02\n",
      "     ------------------------------------     9.6/10.7 MB 1.1 MB/s eta 0:00:01\n",
      "     ------------------------------------     9.6/10.7 MB 1.1 MB/s eta 0:00:01\n",
      "     ------------------------------------     9.6/10.7 MB 1.1 MB/s eta 0:00:01\n",
      "     ------------------------------------     9.8/10.7 MB 1.1 MB/s eta 0:00:01\n",
      "     -------------------------------------    9.9/10.7 MB 1.1 MB/s eta 0:00:01\n",
      "     -------------------------------------    9.9/10.7 MB 1.1 MB/s eta 0:00:01\n",
      "     -------------------------------------    9.9/10.7 MB 1.1 MB/s eta 0:00:01\n",
      "     -------------------------------------    10.0/10.7 MB 1.1 MB/s eta 0:00:01\n",
      "     --------------------------------------   10.2/10.7 MB 1.1 MB/s eta 0:00:01\n",
      "     --------------------------------------   10.2/10.7 MB 1.1 MB/s eta 0:00:01\n",
      "     --------------------------------------   10.2/10.7 MB 1.1 MB/s eta 0:00:01\n",
      "     --------------------------------------   10.2/10.7 MB 1.1 MB/s eta 0:00:01\n",
      "     ---------------------------------------  10.4/10.7 MB 1.1 MB/s eta 0:00:01\n",
      "     ---------------------------------------  10.5/10.7 MB 1.1 MB/s eta 0:00:01\n",
      "     ---------------------------------------  10.5/10.7 MB 1.1 MB/s eta 0:00:01\n",
      "     ---------------------------------------  10.5/10.7 MB 1.1 MB/s eta 0:00:01\n",
      "     ---------------------------------------  10.5/10.7 MB 1.1 MB/s eta 0:00:01\n",
      "     ---------------------------------------  10.6/10.7 MB 1.1 MB/s eta 0:00:01\n",
      "     ---------------------------------------  10.6/10.7 MB 1.1 MB/s eta 0:00:01\n",
      "     ---------------------------------------  10.6/10.7 MB 1.1 MB/s eta 0:00:01\n",
      "     ---------------------------------------  10.6/10.7 MB 1.1 MB/s eta 0:00:01\n",
      "     ---------------------------------------  10.6/10.7 MB 1.1 MB/s eta 0:00:01\n",
      "     ---------------------------------------- 10.7/10.7 MB 1.1 MB/s eta 0:00:00\n",
      "Requirement already satisfied: python-dateutil>=2.8.2 in c:\\users\\nikhileswari puvvula\\appdata\\roaming\\python\\python310\\site-packages (from pandas) (2.8.2)\n",
      "Collecting pytz>=2020.1 (from pandas)\n",
      "  Downloading pytz-2023.3-py2.py3-none-any.whl (502 kB)\n",
      "                                              0.0/502.3 kB ? eta -:--:--\n",
      "     ----                                    61.4/502.3 kB 1.6 MB/s eta 0:00:01\n",
      "     ---------                              122.9/502.3 kB 1.8 MB/s eta 0:00:01\n",
      "     ---------                              122.9/502.3 kB 1.8 MB/s eta 0:00:01\n",
      "     ---------                              122.9/502.3 kB 1.8 MB/s eta 0:00:01\n",
      "     -----------------                      235.5/502.3 kB 1.0 MB/s eta 0:00:01\n",
      "     ---------------------------            358.4/502.3 kB 1.3 MB/s eta 0:00:01\n",
      "     ------------------------------         409.6/502.3 kB 1.3 MB/s eta 0:00:01\n",
      "     ------------------------------         409.6/502.3 kB 1.3 MB/s eta 0:00:01\n",
      "     ------------------------------         409.6/502.3 kB 1.3 MB/s eta 0:00:01\n",
      "     -------------------------------------  501.8/502.3 kB 1.2 MB/s eta 0:00:01\n",
      "     -------------------------------------- 502.3/502.3 kB 1.0 MB/s eta 0:00:00\n",
      "Collecting tzdata>=2022.1 (from pandas)\n",
      "  Downloading tzdata-2023.3-py2.py3-none-any.whl (341 kB)\n",
      "                                              0.0/341.8 kB ? eta -:--:--\n",
      "     ---                                   30.7/341.8 kB 660.6 kB/s eta 0:00:01\n",
      "     ---                                   30.7/341.8 kB 660.6 kB/s eta 0:00:01\n",
      "     ---                                   30.7/341.8 kB 660.6 kB/s eta 0:00:01\n",
      "     ---                                   30.7/341.8 kB 660.6 kB/s eta 0:00:01\n",
      "     ---                                   30.7/341.8 kB 660.6 kB/s eta 0:00:01\n",
      "     ---                                   30.7/341.8 kB 660.6 kB/s eta 0:00:01\n",
      "     ---                                   30.7/341.8 kB 660.6 kB/s eta 0:00:01\n",
      "     --------------------------           256.0/341.8 kB 684.6 kB/s eta 0:00:01\n",
      "     ------------------------------       286.7/341.8 kB 681.0 kB/s eta 0:00:01\n",
      "     --------------------------------     307.2/341.8 kB 655.5 kB/s eta 0:00:01\n",
      "     -----------------------------------  337.9/341.8 kB 655.4 kB/s eta 0:00:01\n",
      "     ------------------------------------ 341.8/341.8 kB 606.2 kB/s eta 0:00:00\n",
      "Requirement already satisfied: numpy>=1.21.0 in c:\\users\\nikhileswari puvvula\\appdata\\roaming\\python\\python310\\site-packages (from pandas) (1.24.3)\n",
      "Requirement already satisfied: six>=1.5 in c:\\users\\nikhileswari puvvula\\appdata\\roaming\\python\\python310\\site-packages (from python-dateutil>=2.8.2->pandas) (1.16.0)\n",
      "Installing collected packages: pytz, tzdata, pandas\n",
      "Successfully installed pandas-2.0.2 pytz-2023.3 tzdata-2023.3\n",
      "Note: you may need to restart the kernel to use updated packages.\n"
     ]
    }
   ],
   "source": [
    "pip install pandas"
   ]
  },
  {
   "cell_type": "code",
   "execution_count": 3,
   "id": "e9a09b67",
   "metadata": {},
   "outputs": [
    {
     "name": "stdout",
     "output_type": "stream",
     "text": [
      "Defaulting to user installation because normal site-packages is not writeableNote: you may need to restart the kernel to use updated packages.\n",
      "\n",
      "Requirement already satisfied: pandas in c:\\users\\nikhileswari puvvula\\appdata\\roaming\\python\\python310\\site-packages (2.0.2)\n",
      "Requirement already satisfied: python-dateutil>=2.8.2 in c:\\users\\nikhileswari puvvula\\appdata\\roaming\\python\\python310\\site-packages (from pandas) (2.8.2)\n",
      "Requirement already satisfied: pytz>=2020.1 in c:\\users\\nikhileswari puvvula\\appdata\\roaming\\python\\python310\\site-packages (from pandas) (2023.3)\n",
      "Requirement already satisfied: tzdata>=2022.1 in c:\\users\\nikhileswari puvvula\\appdata\\roaming\\python\\python310\\site-packages (from pandas) (2023.3)\n",
      "Requirement already satisfied: numpy>=1.21.0 in c:\\users\\nikhileswari puvvula\\appdata\\roaming\\python\\python310\\site-packages (from pandas) (1.24.3)\n",
      "Requirement already satisfied: six>=1.5 in c:\\users\\nikhileswari puvvula\\appdata\\roaming\\python\\python310\\site-packages (from python-dateutil>=2.8.2->pandas) (1.16.0)\n"
     ]
    }
   ],
   "source": [
    "pip install pandas"
   ]
  },
  {
   "cell_type": "markdown",
   "id": "519dda17",
   "metadata": {},
   "source": []
  },
  {
   "cell_type": "code",
   "execution_count": 8,
   "id": "f43f45b7",
   "metadata": {},
   "outputs": [
    {
     "name": "stdout",
     "output_type": "stream",
     "text": [
      "[1, 2, 3, 4, 5]\n",
      "0    1\n",
      "1    2\n",
      "2    3\n",
      "3    4\n",
      "4    5\n",
      "dtype: int64\n",
      "{'x1': 45, 'x2': 55, 'x3': 42}\n",
      "x1    45\n",
      "x2    55\n",
      "x3    42\n",
      "dtype: int64\n"
     ]
    }
   ],
   "source": [
    "import pandas as pd\n",
    "l1 = [1,2,3,4,5]\n",
    "x = pd.Series(l1)\n",
    "print(l1)\n",
    "print(x)\n",
    "l2={\"x1\":45,\"x2\":55,\"x3\":42}\n",
    "x1=pd.Series(l2)\n",
    "print(l2)\n",
    "print(x1)"
   ]
  },
  {
   "cell_type": "markdown",
   "id": "683271e9",
   "metadata": {},
   "source": [
    "# sample data"
   ]
  },
  {
   "cell_type": "code",
   "execution_count": 9,
   "id": "0814e9d9",
   "metadata": {},
   "outputs": [
    {
     "name": "stdout",
     "output_type": "stream",
     "text": [
      "  student_name  marks\n",
      "0        nikki    100\n",
      "1         nani     60\n",
      "2          sai     90\n"
     ]
    }
   ],
   "source": [
    "import pandas as pd\n",
    "sample_data={\"student_name\":[\"nikki\",\"nani\",\"sai\"],\"marks\":[100,60,90]}\n",
    "df=pd.DataFrame(sample_data)\n",
    "print(df)"
   ]
  },
  {
   "cell_type": "code",
   "execution_count": 10,
   "id": "ee7ad349",
   "metadata": {},
   "outputs": [
    {
     "name": "stdout",
     "output_type": "stream",
     "text": [
      "student_name    nani\n",
      "marks             60\n",
      "Name: 1, dtype: object\n"
     ]
    }
   ],
   "source": [
    "print(df.loc[1])"
   ]
  },
  {
   "cell_type": "markdown",
   "id": "de3b2474",
   "metadata": {},
   "source": [
    "# csv file input"
   ]
  },
  {
   "cell_type": "code",
   "execution_count": 20,
   "id": "c8b72808",
   "metadata": {},
   "outputs": [
    {
     "ename": "ValueError",
     "evalue": "DataFrame constructor not properly called!",
     "output_type": "error",
     "traceback": [
      "\u001b[1;31m---------------------------------------------------------------------------\u001b[0m",
      "\u001b[1;31mValueError\u001b[0m                                Traceback (most recent call last)",
      "\u001b[1;32m~\\AppData\\Local\\Temp\\ipykernel_10356\\2543260909.py\u001b[0m in \u001b[0;36m?\u001b[1;34m()\u001b[0m\n\u001b[0;32m      1\u001b[0m \u001b[1;32mimport\u001b[0m \u001b[0mpandas\u001b[0m \u001b[1;32mas\u001b[0m \u001b[0mpd\u001b[0m\u001b[1;33m\u001b[0m\u001b[1;33m\u001b[0m\u001b[0m\n\u001b[1;32m----> 2\u001b[1;33m \u001b[0mdf\u001b[0m \u001b[1;33m=\u001b[0m \u001b[0mpd\u001b[0m\u001b[1;33m.\u001b[0m\u001b[0mDataFrame\u001b[0m\u001b[1;33m(\u001b[0m\u001b[1;34mr\"C:\\Users\\Nikhileswari Puvvula\\Downloads\\business-financial-data-september-2022-quarter-csv.zip\"\u001b[0m\u001b[1;33m)\u001b[0m\u001b[1;33m\u001b[0m\u001b[1;33m\u001b[0m\u001b[0m\n\u001b[0m\u001b[0;32m      3\u001b[0m \u001b[0mprint\u001b[0m\u001b[1;33m(\u001b[0m\u001b[0mdf\u001b[0m\u001b[1;33m)\u001b[0m\u001b[1;33m\u001b[0m\u001b[1;33m\u001b[0m\u001b[0m\n",
      "\u001b[1;32m~\\AppData\\Roaming\\Python\\Python310\\site-packages\\pandas\\core\\frame.py\u001b[0m in \u001b[0;36m?\u001b[1;34m(self, data, index, columns, dtype, copy)\u001b[0m\n\u001b[0;32m    813\u001b[0m                 )\n\u001b[0;32m    814\u001b[0m         \u001b[1;31m# For data is scalar\u001b[0m\u001b[1;33m\u001b[0m\u001b[1;33m\u001b[0m\u001b[0m\n\u001b[0;32m    815\u001b[0m         \u001b[1;32melse\u001b[0m\u001b[1;33m:\u001b[0m\u001b[1;33m\u001b[0m\u001b[1;33m\u001b[0m\u001b[0m\n\u001b[0;32m    816\u001b[0m             \u001b[1;32mif\u001b[0m \u001b[0mindex\u001b[0m \u001b[1;32mis\u001b[0m \u001b[1;32mNone\u001b[0m \u001b[1;32mor\u001b[0m \u001b[0mcolumns\u001b[0m \u001b[1;32mis\u001b[0m \u001b[1;32mNone\u001b[0m\u001b[1;33m:\u001b[0m\u001b[1;33m\u001b[0m\u001b[1;33m\u001b[0m\u001b[0m\n\u001b[1;32m--> 817\u001b[1;33m                 \u001b[1;32mraise\u001b[0m \u001b[0mValueError\u001b[0m\u001b[1;33m(\u001b[0m\u001b[1;34m\"DataFrame constructor not properly called!\"\u001b[0m\u001b[1;33m)\u001b[0m\u001b[1;33m\u001b[0m\u001b[1;33m\u001b[0m\u001b[0m\n\u001b[0m\u001b[0;32m    818\u001b[0m \u001b[1;33m\u001b[0m\u001b[0m\n\u001b[0;32m    819\u001b[0m             \u001b[0mindex\u001b[0m \u001b[1;33m=\u001b[0m \u001b[0mensure_index\u001b[0m\u001b[1;33m(\u001b[0m\u001b[0mindex\u001b[0m\u001b[1;33m)\u001b[0m\u001b[1;33m\u001b[0m\u001b[1;33m\u001b[0m\u001b[0m\n\u001b[0;32m    820\u001b[0m             \u001b[0mcolumns\u001b[0m \u001b[1;33m=\u001b[0m \u001b[0mensure_index\u001b[0m\u001b[1;33m(\u001b[0m\u001b[0mcolumns\u001b[0m\u001b[1;33m)\u001b[0m\u001b[1;33m\u001b[0m\u001b[1;33m\u001b[0m\u001b[0m\n",
      "\u001b[1;31mValueError\u001b[0m: DataFrame constructor not properly called!"
     ]
    }
   ],
   "source": [
    "import pandas as pd\n",
    "df = pd.DataFrame(r\"C:\\Users\\Nikhileswari Puvvula\\Downloads\\business-financial-data-september-2022-quarter-csv.zip\")\n",
    "print(df)"
   ]
  },
  {
   "cell_type": "code",
   "execution_count": 21,
   "id": "dbe42dab",
   "metadata": {},
   "outputs": [
    {
     "name": "stdout",
     "output_type": "stream",
     "text": [
      "   slno       name  marks\n",
      "0     1      nikki    100\n",
      "1     2        sai     60\n",
      "2     3    sadhana     75\n",
      "3     4     pranav     90\n",
      "4     5  vaishnavi     95\n",
      "5     6      honey     76\n",
      "6     7      navya     86\n"
     ]
    }
   ],
   "source": [
    "import pandas as pd\n",
    "df = pd.read_csv(r\"C:\\Users\\Nikhileswari Puvvula\\Desktop\\Book1.csv\")\n",
    "print(df)"
   ]
  },
  {
   "cell_type": "code",
   "execution_count": 23,
   "id": "e488c11f",
   "metadata": {},
   "outputs": [
    {
     "name": "stdout",
     "output_type": "stream",
     "text": [
      "   slno       name\n",
      "0     1      nikki\n",
      "1     2        sai\n",
      "2     3    sadhana\n",
      "3     4     pranav\n",
      "4     5  vaishnavi\n",
      "5     6      honey\n",
      "6     7      navya\n"
     ]
    }
   ],
   "source": [
    "df1 = pd.DataFrame(df,columns=['slno','name'])\n",
    "print(df1)"
   ]
  },
  {
   "cell_type": "code",
   "execution_count": 24,
   "id": "0d4eac3e",
   "metadata": {},
   "outputs": [
    {
     "name": "stdout",
     "output_type": "stream",
     "text": [
      "   slno       name  marks\n",
      "0     1      nikki    100\n",
      "1     2        sai     60\n",
      "2     3    sadhana     75\n",
      "3     4     pranav     90\n",
      "4     5  vaishnavi     95\n",
      "5     6      honey     76\n",
      "6     7      navya     86\n"
     ]
    }
   ],
   "source": [
    "df2 = pd.DataFrame(df)\n",
    "print(df2)"
   ]
  },
  {
   "cell_type": "code",
   "execution_count": 25,
   "id": "e875ff98",
   "metadata": {},
   "outputs": [
    {
     "data": {
      "text/html": [
       "<div>\n",
       "<style scoped>\n",
       "    .dataframe tbody tr th:only-of-type {\n",
       "        vertical-align: middle;\n",
       "    }\n",
       "\n",
       "    .dataframe tbody tr th {\n",
       "        vertical-align: top;\n",
       "    }\n",
       "\n",
       "    .dataframe thead th {\n",
       "        text-align: right;\n",
       "    }\n",
       "</style>\n",
       "<table border=\"1\" class=\"dataframe\">\n",
       "  <thead>\n",
       "    <tr style=\"text-align: right;\">\n",
       "      <th></th>\n",
       "      <th>slno</th>\n",
       "      <th>name</th>\n",
       "      <th>marks</th>\n",
       "    </tr>\n",
       "  </thead>\n",
       "  <tbody>\n",
       "    <tr>\n",
       "      <th>0</th>\n",
       "      <td>1</td>\n",
       "      <td>nikki</td>\n",
       "      <td>100</td>\n",
       "    </tr>\n",
       "    <tr>\n",
       "      <th>1</th>\n",
       "      <td>2</td>\n",
       "      <td>sai</td>\n",
       "      <td>60</td>\n",
       "    </tr>\n",
       "    <tr>\n",
       "      <th>2</th>\n",
       "      <td>3</td>\n",
       "      <td>sadhana</td>\n",
       "      <td>75</td>\n",
       "    </tr>\n",
       "    <tr>\n",
       "      <th>3</th>\n",
       "      <td>4</td>\n",
       "      <td>pranav</td>\n",
       "      <td>90</td>\n",
       "    </tr>\n",
       "    <tr>\n",
       "      <th>4</th>\n",
       "      <td>5</td>\n",
       "      <td>vaishnavi</td>\n",
       "      <td>95</td>\n",
       "    </tr>\n",
       "  </tbody>\n",
       "</table>\n",
       "</div>"
      ],
      "text/plain": [
       "   slno       name  marks\n",
       "0     1      nikki    100\n",
       "1     2        sai     60\n",
       "2     3    sadhana     75\n",
       "3     4     pranav     90\n",
       "4     5  vaishnavi     95"
      ]
     },
     "execution_count": 25,
     "metadata": {},
     "output_type": "execute_result"
    }
   ],
   "source": [
    "df.head()"
   ]
  },
  {
   "cell_type": "code",
   "execution_count": 26,
   "id": "d1d3af0a",
   "metadata": {},
   "outputs": [
    {
     "data": {
      "text/html": [
       "<div>\n",
       "<style scoped>\n",
       "    .dataframe tbody tr th:only-of-type {\n",
       "        vertical-align: middle;\n",
       "    }\n",
       "\n",
       "    .dataframe tbody tr th {\n",
       "        vertical-align: top;\n",
       "    }\n",
       "\n",
       "    .dataframe thead th {\n",
       "        text-align: right;\n",
       "    }\n",
       "</style>\n",
       "<table border=\"1\" class=\"dataframe\">\n",
       "  <thead>\n",
       "    <tr style=\"text-align: right;\">\n",
       "      <th></th>\n",
       "      <th>slno</th>\n",
       "      <th>name</th>\n",
       "      <th>marks</th>\n",
       "    </tr>\n",
       "  </thead>\n",
       "  <tbody>\n",
       "    <tr>\n",
       "      <th>0</th>\n",
       "      <td>1</td>\n",
       "      <td>nikki</td>\n",
       "      <td>100</td>\n",
       "    </tr>\n",
       "    <tr>\n",
       "      <th>1</th>\n",
       "      <td>2</td>\n",
       "      <td>sai</td>\n",
       "      <td>60</td>\n",
       "    </tr>\n",
       "    <tr>\n",
       "      <th>2</th>\n",
       "      <td>3</td>\n",
       "      <td>sadhana</td>\n",
       "      <td>75</td>\n",
       "    </tr>\n",
       "  </tbody>\n",
       "</table>\n",
       "</div>"
      ],
      "text/plain": [
       "   slno     name  marks\n",
       "0     1    nikki    100\n",
       "1     2      sai     60\n",
       "2     3  sadhana     75"
      ]
     },
     "execution_count": 26,
     "metadata": {},
     "output_type": "execute_result"
    }
   ],
   "source": [
    "df.head(3)"
   ]
  },
  {
   "cell_type": "code",
   "execution_count": 27,
   "id": "f1308ced",
   "metadata": {},
   "outputs": [
    {
     "data": {
      "text/html": [
       "<div>\n",
       "<style scoped>\n",
       "    .dataframe tbody tr th:only-of-type {\n",
       "        vertical-align: middle;\n",
       "    }\n",
       "\n",
       "    .dataframe tbody tr th {\n",
       "        vertical-align: top;\n",
       "    }\n",
       "\n",
       "    .dataframe thead th {\n",
       "        text-align: right;\n",
       "    }\n",
       "</style>\n",
       "<table border=\"1\" class=\"dataframe\">\n",
       "  <thead>\n",
       "    <tr style=\"text-align: right;\">\n",
       "      <th></th>\n",
       "      <th>slno</th>\n",
       "      <th>name</th>\n",
       "      <th>marks</th>\n",
       "    </tr>\n",
       "  </thead>\n",
       "  <tbody>\n",
       "    <tr>\n",
       "      <th>2</th>\n",
       "      <td>3</td>\n",
       "      <td>sadhana</td>\n",
       "      <td>75</td>\n",
       "    </tr>\n",
       "    <tr>\n",
       "      <th>3</th>\n",
       "      <td>4</td>\n",
       "      <td>pranav</td>\n",
       "      <td>90</td>\n",
       "    </tr>\n",
       "    <tr>\n",
       "      <th>4</th>\n",
       "      <td>5</td>\n",
       "      <td>vaishnavi</td>\n",
       "      <td>95</td>\n",
       "    </tr>\n",
       "    <tr>\n",
       "      <th>5</th>\n",
       "      <td>6</td>\n",
       "      <td>honey</td>\n",
       "      <td>76</td>\n",
       "    </tr>\n",
       "    <tr>\n",
       "      <th>6</th>\n",
       "      <td>7</td>\n",
       "      <td>navya</td>\n",
       "      <td>86</td>\n",
       "    </tr>\n",
       "  </tbody>\n",
       "</table>\n",
       "</div>"
      ],
      "text/plain": [
       "   slno       name  marks\n",
       "2     3    sadhana     75\n",
       "3     4     pranav     90\n",
       "4     5  vaishnavi     95\n",
       "5     6      honey     76\n",
       "6     7      navya     86"
      ]
     },
     "execution_count": 27,
     "metadata": {},
     "output_type": "execute_result"
    }
   ],
   "source": [
    "df.tail()"
   ]
  },
  {
   "cell_type": "code",
   "execution_count": 28,
   "id": "891c354a",
   "metadata": {},
   "outputs": [
    {
     "data": {
      "text/html": [
       "<div>\n",
       "<style scoped>\n",
       "    .dataframe tbody tr th:only-of-type {\n",
       "        vertical-align: middle;\n",
       "    }\n",
       "\n",
       "    .dataframe tbody tr th {\n",
       "        vertical-align: top;\n",
       "    }\n",
       "\n",
       "    .dataframe thead th {\n",
       "        text-align: right;\n",
       "    }\n",
       "</style>\n",
       "<table border=\"1\" class=\"dataframe\">\n",
       "  <thead>\n",
       "    <tr style=\"text-align: right;\">\n",
       "      <th></th>\n",
       "      <th>slno</th>\n",
       "      <th>name</th>\n",
       "      <th>marks</th>\n",
       "    </tr>\n",
       "  </thead>\n",
       "  <tbody>\n",
       "    <tr>\n",
       "      <th>4</th>\n",
       "      <td>5</td>\n",
       "      <td>vaishnavi</td>\n",
       "      <td>95</td>\n",
       "    </tr>\n",
       "    <tr>\n",
       "      <th>5</th>\n",
       "      <td>6</td>\n",
       "      <td>honey</td>\n",
       "      <td>76</td>\n",
       "    </tr>\n",
       "    <tr>\n",
       "      <th>6</th>\n",
       "      <td>7</td>\n",
       "      <td>navya</td>\n",
       "      <td>86</td>\n",
       "    </tr>\n",
       "  </tbody>\n",
       "</table>\n",
       "</div>"
      ],
      "text/plain": [
       "   slno       name  marks\n",
       "4     5  vaishnavi     95\n",
       "5     6      honey     76\n",
       "6     7      navya     86"
      ]
     },
     "execution_count": 28,
     "metadata": {},
     "output_type": "execute_result"
    }
   ],
   "source": [
    "df.tail(3)"
   ]
  },
  {
   "cell_type": "code",
   "execution_count": 29,
   "id": "559ceff3",
   "metadata": {},
   "outputs": [
    {
     "name": "stdout",
     "output_type": "stream",
     "text": [
      "<class 'pandas.core.frame.DataFrame'>\n",
      "RangeIndex: 7 entries, 0 to 6\n",
      "Data columns (total 3 columns):\n",
      " #   Column  Non-Null Count  Dtype \n",
      "---  ------  --------------  ----- \n",
      " 0   slno    7 non-null      int64 \n",
      " 1   name    7 non-null      object\n",
      " 2   marks   7 non-null      int64 \n",
      "dtypes: int64(2), object(1)\n",
      "memory usage: 296.0+ bytes\n"
     ]
    }
   ],
   "source": [
    "df.info()"
   ]
  },
  {
   "cell_type": "code",
   "execution_count": 30,
   "id": "62c0bc6b",
   "metadata": {},
   "outputs": [
    {
     "data": {
      "text/html": [
       "<div>\n",
       "<style scoped>\n",
       "    .dataframe tbody tr th:only-of-type {\n",
       "        vertical-align: middle;\n",
       "    }\n",
       "\n",
       "    .dataframe tbody tr th {\n",
       "        vertical-align: top;\n",
       "    }\n",
       "\n",
       "    .dataframe thead th {\n",
       "        text-align: right;\n",
       "    }\n",
       "</style>\n",
       "<table border=\"1\" class=\"dataframe\">\n",
       "  <thead>\n",
       "    <tr style=\"text-align: right;\">\n",
       "      <th></th>\n",
       "      <th>slno</th>\n",
       "      <th>marks</th>\n",
       "    </tr>\n",
       "  </thead>\n",
       "  <tbody>\n",
       "    <tr>\n",
       "      <th>count</th>\n",
       "      <td>7.000000</td>\n",
       "      <td>7.000000</td>\n",
       "    </tr>\n",
       "    <tr>\n",
       "      <th>mean</th>\n",
       "      <td>4.000000</td>\n",
       "      <td>83.142857</td>\n",
       "    </tr>\n",
       "    <tr>\n",
       "      <th>std</th>\n",
       "      <td>2.160247</td>\n",
       "      <td>13.740798</td>\n",
       "    </tr>\n",
       "    <tr>\n",
       "      <th>min</th>\n",
       "      <td>1.000000</td>\n",
       "      <td>60.000000</td>\n",
       "    </tr>\n",
       "    <tr>\n",
       "      <th>25%</th>\n",
       "      <td>2.500000</td>\n",
       "      <td>75.500000</td>\n",
       "    </tr>\n",
       "    <tr>\n",
       "      <th>50%</th>\n",
       "      <td>4.000000</td>\n",
       "      <td>86.000000</td>\n",
       "    </tr>\n",
       "    <tr>\n",
       "      <th>75%</th>\n",
       "      <td>5.500000</td>\n",
       "      <td>92.500000</td>\n",
       "    </tr>\n",
       "    <tr>\n",
       "      <th>max</th>\n",
       "      <td>7.000000</td>\n",
       "      <td>100.000000</td>\n",
       "    </tr>\n",
       "  </tbody>\n",
       "</table>\n",
       "</div>"
      ],
      "text/plain": [
       "           slno       marks\n",
       "count  7.000000    7.000000\n",
       "mean   4.000000   83.142857\n",
       "std    2.160247   13.740798\n",
       "min    1.000000   60.000000\n",
       "25%    2.500000   75.500000\n",
       "50%    4.000000   86.000000\n",
       "75%    5.500000   92.500000\n",
       "max    7.000000  100.000000"
      ]
     },
     "execution_count": 30,
     "metadata": {},
     "output_type": "execute_result"
    }
   ],
   "source": [
    "df.describe()"
   ]
  },
  {
   "cell_type": "code",
   "execution_count": 33,
   "id": "37772b65",
   "metadata": {},
   "outputs": [
    {
     "name": "stdout",
     "output_type": "stream",
     "text": [
      "   slno  marks\n",
      "0     1    100\n",
      "1     2     60\n",
      "2     3     75\n",
      "3     4     90\n",
      "4     5     95\n",
      "5     6     76\n",
      "6     7     86\n"
     ]
    }
   ],
   "source": [
    "df3 = pd.DataFrame(df,columns=['slno','marks'])\n",
    "print(df3)"
   ]
  },
  {
   "cell_type": "code",
   "execution_count": 34,
   "id": "0e9e0c0e",
   "metadata": {},
   "outputs": [
    {
     "data": {
      "text/html": [
       "<div>\n",
       "<style scoped>\n",
       "    .dataframe tbody tr th:only-of-type {\n",
       "        vertical-align: middle;\n",
       "    }\n",
       "\n",
       "    .dataframe tbody tr th {\n",
       "        vertical-align: top;\n",
       "    }\n",
       "\n",
       "    .dataframe thead th {\n",
       "        text-align: right;\n",
       "    }\n",
       "</style>\n",
       "<table border=\"1\" class=\"dataframe\">\n",
       "  <thead>\n",
       "    <tr style=\"text-align: right;\">\n",
       "      <th></th>\n",
       "      <th>slno</th>\n",
       "      <th>marks</th>\n",
       "    </tr>\n",
       "  </thead>\n",
       "  <tbody>\n",
       "    <tr>\n",
       "      <th>slno</th>\n",
       "      <td>1.000000</td>\n",
       "      <td>0.056148</td>\n",
       "    </tr>\n",
       "    <tr>\n",
       "      <th>marks</th>\n",
       "      <td>0.056148</td>\n",
       "      <td>1.000000</td>\n",
       "    </tr>\n",
       "  </tbody>\n",
       "</table>\n",
       "</div>"
      ],
      "text/plain": [
       "           slno     marks\n",
       "slno   1.000000  0.056148\n",
       "marks  0.056148  1.000000"
      ]
     },
     "execution_count": 34,
     "metadata": {},
     "output_type": "execute_result"
    }
   ],
   "source": [
    "df3.corr()"
   ]
  },
  {
   "cell_type": "code",
   "execution_count": 37,
   "id": "be3c9c13",
   "metadata": {},
   "outputs": [
    {
     "name": "stdout",
     "output_type": "stream",
     "text": [
      "Defaulting to user installation because normal site-packages is not writeable\n",
      "Requirement already satisfied: matplotlib in c:\\users\\nikhileswari puvvula\\appdata\\roaming\\python\\python310\\site-packages (3.7.1)\n",
      "Requirement already satisfied: contourpy>=1.0.1 in c:\\users\\nikhileswari puvvula\\appdata\\roaming\\python\\python310\\site-packages (from matplotlib) (1.0.7)\n",
      "Requirement already satisfied: cycler>=0.10 in c:\\users\\nikhileswari puvvula\\appdata\\roaming\\python\\python310\\site-packages (from matplotlib) (0.11.0)\n",
      "Requirement already satisfied: fonttools>=4.22.0 in c:\\users\\nikhileswari puvvula\\appdata\\roaming\\python\\python310\\site-packages (from matplotlib) (4.39.4)\n",
      "Requirement already satisfied: kiwisolver>=1.0.1 in c:\\users\\nikhileswari puvvula\\appdata\\roaming\\python\\python310\\site-packages (from matplotlib) (1.4.4)\n",
      "Requirement already satisfied: numpy>=1.20 in c:\\users\\nikhileswari puvvula\\appdata\\roaming\\python\\python310\\site-packages (from matplotlib) (1.24.3)\n",
      "Requirement already satisfied: packaging>=20.0 in c:\\users\\nikhileswari puvvula\\appdata\\roaming\\python\\python310\\site-packages (from matplotlib) (23.1)\n",
      "Requirement already satisfied: pillow>=6.2.0 in c:\\users\\nikhileswari puvvula\\appdata\\roaming\\python\\python310\\site-packages (from matplotlib) (9.5.0)\n",
      "Requirement already satisfied: pyparsing>=2.3.1 in c:\\users\\nikhileswari puvvula\\appdata\\roaming\\python\\python310\\site-packages (from matplotlib) (3.0.9)\n",
      "Requirement already satisfied: python-dateutil>=2.7 in c:\\users\\nikhileswari puvvula\\appdata\\roaming\\python\\python310\\site-packages (from matplotlib) (2.8.2)\n",
      "Requirement already satisfied: six>=1.5 in c:\\users\\nikhileswari puvvula\\appdata\\roaming\\python\\python310\\site-packages (from python-dateutil>=2.7->matplotlib) (1.16.0)\n"
     ]
    }
   ],
   "source": [
    "!pip install matplotlib"
   ]
  },
  {
   "cell_type": "code",
   "execution_count": 39,
   "id": "dafd5582",
   "metadata": {},
   "outputs": [
    {
     "data": {
      "image/png": "[encoded data removed]",
      "text/plain": [
       "<Figure size 640x480 with 1 Axes>"
      ]
     },
     "metadata": {},
     "output_type": "display_data"
    }
   ],
   "source": [
    "import matplotlib.pyplot as plt\n",
    "import numpy as np\n",
    "x = np.array([1,6,9])\n",
    "y = np.array([2,5,18])\n",
    "plt.plot(x,y)\n",
    "plt.show()"
   ]
  },
  {
   "cell_type": "markdown",
   "id": "0d5fc807",
   "metadata": {},
   "source": [
    "# line char\n",
    "\n"
   ]
  },
  {
   "cell_type": "code",
   "execution_count": 72,
   "id": "b39e1b1c",
   "metadata": {},
   "outputs": [
    {
     "data": {
      "image/png": "[encoded data removed]",
      "text/plain": [
       "<Figure size 640x480 with 1 Axes>"
      ]
     },
     "metadata": {},
     "output_type": "display_data"
    }
   ],
   "source": [
    "import matplotlib.pyplot as plt\n",
    "import numpy as np\n",
    "l = np.array([4,5,2,3,8])\n",
    "#plt.plot(l)\n",
    "l1 = np.array([6,9,3,2,7])\n",
    "plt.plot(l1,linestyle='dotted',linewidth='5')\n",
    "plt.plot(l,linestyle='dashed',color='r',linewidth='5')\n",
    "plt.show()"
   ]
  },
  {
   "cell_type": "markdown",
   "id": "172881f4",
   "metadata": {},
   "source": [
    "# BAR CHART"
   ]
  },
  {
   "cell_type": "code",
   "execution_count": 47,
   "id": "ff371ac5",
   "metadata": {},
   "outputs": [
    {
     "data": {
      "image/png": "[encoded data removed]",
      "text/plain": [
       "<Figure size 640x480 with 1 Axes>"
      ]
     },
     "metadata": {},
     "output_type": "display_data"
    }
   ],
   "source": [
    "import matplotlib.pyplot as plt\n",
    "import numpy as np\n",
    "x = ['u','x','y','z']\n",
    "y = [55,30,67,42]\n",
    "plt.bar(x,y)\n",
    "plt.show()"
   ]
  },
  {
   "cell_type": "markdown",
   "id": "8823ddf4",
   "metadata": {},
   "source": [
    "# SCATTER PLOT"
   ]
  },
  {
   "cell_type": "code",
   "execution_count": 65,
   "id": "d4e21431",
   "metadata": {},
   "outputs": [
    {
     "data": {
      "image/png": "[encoded data removed]",
      "text/plain": [
       "<Figure size 640x480 with 1 Axes>"
      ]
     },
     "metadata": {},
     "output_type": "display_data"
    }
   ],
   "source": [
    "import matplotlib.pyplot as plt\n",
    "import numpy as np\n",
    "x = np.array([1,2,3,4,5,6,7])\n",
    "y = np.array([10,20,30,40,50,60,70])\n",
    "plt.scatter(x,y,marker=\"*\",color='r')\n",
    "plt.show()"
   ]
  },
  {
   "cell_type": "markdown",
   "id": "5366c022",
   "metadata": {},
   "source": [
    "# PIE CHART"
   ]
  },
  {
   "cell_type": "code",
   "execution_count": 53,
   "id": "55b2240e",
   "metadata": {},
   "outputs": [
    {
     "data": {
      "image/png": "[encoded data removed]",
      "text/plain": [
       "<Figure size 640x480 with 1 Axes>"
      ]
     },
     "metadata": {},
     "output_type": "display_data"
    }
   ],
   "source": [
    "import matplotlib.pyplot as plt\n",
    "import numpy as np\n",
    "x=np.array([100,50,90,20,57,55,43])\n",
    "plt.pie(x)\n",
    "plt.show()"
   ]
  },
  {
   "cell_type": "code",
   "execution_count": 57,
   "id": "554d7ce9",
   "metadata": {},
   "outputs": [
    {
     "data": {
      "text/plain": [
       "(array([ 2., 16., 21., 35., 35., 61., 41., 29.,  4.,  6.]),\n",
       " array([103.85171322, 116.84322599, 129.83473875, 142.82625152,\n",
       "        155.81776428, 168.80927705, 181.80078981, 194.79230258,\n",
       "        207.78381534, 220.7753281 , 233.76684087]),\n",
       " <BarContainer object of 10 artists>)"
      ]
     },
     "execution_count": 57,
     "metadata": {},
     "output_type": "execute_result"
    },
    {
     "data": {
      "image/png": "[encoded data removed]",
      "text/plain": [
       "<Figure size 640x480 with 1 Axes>"
      ]
     },
     "metadata": {},
     "output_type": "display_data"
    }
   ],
   "source": [
    "import matplotlib.pyplot as plt\n",
    "import numpy as np\n",
    "h=np.random.normal(170,25,250)\n",
    "plt.hist(h)"
   ]
  },
  {
   "cell_type": "markdown",
   "id": "b61e9c5b",
   "metadata": {},
   "source": [
    "# SEABORN"
   ]
  },
  {
   "cell_type": "markdown",
   "id": "eb533080",
   "metadata": {},
   "source": [
    "1)BOX PLOT"
   ]
  },
  {
   "cell_type": "code",
   "execution_count": 2,
   "id": "013d0145",
   "metadata": {},
   "outputs": [
    {
     "name": "stdout",
     "output_type": "stream",
     "text": [
      "Defaulting to user installation because normal site-packages is not writeable\n",
      "Collecting seaborn\n",
      "  Downloading seaborn-0.12.2-py3-none-any.whl (293 kB)\n",
      "                                              0.0/293.3 kB ? eta -:--:--\n",
      "     ----                                    30.7/293.3 kB 1.3 MB/s eta 0:00:01\n",
      "     --------                                61.4/293.3 kB 1.1 MB/s eta 0:00:01\n",
      "     -----------                           92.2/293.3 kB 871.5 kB/s eta 0:00:01\n",
      "     -----------                           92.2/293.3 kB 871.5 kB/s eta 0:00:01\n",
      "     -------------------------            204.8/293.3 kB 953.7 kB/s eta 0:00:01\n",
      "     -------------------------------------  286.7/293.3 kB 1.1 MB/s eta 0:00:01\n",
      "     -------------------------------------- 293.3/293.3 kB 1.0 MB/s eta 0:00:00\n",
      "Requirement already satisfied: numpy!=1.24.0,>=1.17 in c:\\users\\nikhileswari puvvula\\appdata\\roaming\\python\\python310\\site-packages (from seaborn) (1.24.3)\n",
      "Requirement already satisfied: pandas>=0.25 in c:\\users\\nikhileswari puvvula\\appdata\\roaming\\python\\python310\\site-packages (from seaborn) (2.0.2)\n",
      "Requirement already satisfied: matplotlib!=3.6.1,>=3.1 in c:\\users\\nikhileswari puvvula\\appdata\\roaming\\python\\python310\\site-packages (from seaborn) (3.7.1)\n",
      "Requirement already satisfied: contourpy>=1.0.1 in c:\\users\\nikhileswari puvvula\\appdata\\roaming\\python\\python310\\site-packages (from matplotlib!=3.6.1,>=3.1->seaborn) (1.0.7)\n",
      "Requirement already satisfied: cycler>=0.10 in c:\\users\\nikhileswari puvvula\\appdata\\roaming\\python\\python310\\site-packages (from matplotlib!=3.6.1,>=3.1->seaborn) (0.11.0)\n",
      "Requirement already satisfied: fonttools>=4.22.0 in c:\\users\\nikhileswari puvvula\\appdata\\roaming\\python\\python310\\site-packages (from matplotlib!=3.6.1,>=3.1->seaborn) (4.39.4)\n",
      "Requirement already satisfied: kiwisolver>=1.0.1 in c:\\users\\nikhileswari puvvula\\appdata\\roaming\\python\\python310\\site-packages (from matplotlib!=3.6.1,>=3.1->seaborn) (1.4.4)\n",
      "Requirement already satisfied: packaging>=20.0 in c:\\users\\nikhileswari puvvula\\appdata\\roaming\\python\\python310\\site-packages (from matplotlib!=3.6.1,>=3.1->seaborn) (23.1)\n",
      "Requirement already satisfied: pillow>=6.2.0 in c:\\users\\nikhileswari puvvula\\appdata\\roaming\\python\\python310\\site-packages (from matplotlib!=3.6.1,>=3.1->seaborn) (9.5.0)\n",
      "Requirement already satisfied: pyparsing>=2.3.1 in c:\\users\\nikhileswari puvvula\\appdata\\roaming\\python\\python310\\site-packages (from matplotlib!=3.6.1,>=3.1->seaborn) (3.0.9)\n",
      "Requirement already satisfied: python-dateutil>=2.7 in c:\\users\\nikhileswari puvvula\\appdata\\roaming\\python\\python310\\site-packages (from matplotlib!=3.6.1,>=3.1->seaborn) (2.8.2)\n",
      "Requirement already satisfied: pytz>=2020.1 in c:\\users\\nikhileswari puvvula\\appdata\\roaming\\python\\python310\\site-packages (from pandas>=0.25->seaborn) (2023.3)\n",
      "Requirement already satisfied: tzdata>=2022.1 in c:\\users\\nikhileswari puvvula\\appdata\\roaming\\python\\python310\\site-packages (from pandas>=0.25->seaborn) (2023.3)\n",
      "Requirement already satisfied: six>=1.5 in c:\\users\\nikhileswari puvvula\\appdata\\roaming\\python\\python310\\site-packages (from python-dateutil>=2.7->matplotlib!=3.6.1,>=3.1->seaborn) (1.16.0)\n",
      "Installing collected packages: seaborn\n",
      "Successfully installed seaborn-0.12.2\n",
      "Note: you may need to restart the kernel to use updated packages.\n"
     ]
    }
   ],
   "source": [
    "pip install seaborn"
   ]
  },
  {
   "cell_type": "code",
   "execution_count": 6,
   "id": "1e783f4f",
   "metadata": {},
   "outputs": [
    {
     "data": {
      "text/plain": [
       "['anagrams',\n",
       " 'anscombe',\n",
       " 'attention',\n",
       " 'brain_networks',\n",
       " 'car_crashes',\n",
       " 'diamonds',\n",
       " 'dots',\n",
       " 'dowjones',\n",
       " 'exercise',\n",
       " 'flights',\n",
       " 'fmri',\n",
       " 'geyser',\n",
       " 'glue',\n",
       " 'healthexp',\n",
       " 'iris',\n",
       " 'mpg',\n",
       " 'penguins',\n",
       " 'planets',\n",
       " 'seaice',\n",
       " 'taxis',\n",
       " 'tips',\n",
       " 'titanic']"
      ]
     },
     "execution_count": 6,
     "metadata": {},
     "output_type": "execute_result"
    }
   ],
   "source": [
    "import seaborn as sns\n",
    "import matplotlib.pyplot as plt\n",
    "import pandas as pd\n",
    "sns.get_dataset_names()"
   ]
  },
  {
   "cell_type": "code",
   "execution_count": 11,
   "id": "ed4b0023",
   "metadata": {},
   "outputs": [],
   "source": [
    "df = sns.load_dataset('titanic')"
   ]
  },
  {
   "cell_type": "code",
   "execution_count": 12,
   "id": "c117e241",
   "metadata": {},
   "outputs": [
    {
     "data": {
      "text/html": [
       "<div>\n",
       "<style scoped>\n",
       "    .dataframe tbody tr th:only-of-type {\n",
       "        vertical-align: middle;\n",
       "    }\n",
       "\n",
       "    .dataframe tbody tr th {\n",
       "        vertical-align: top;\n",
       "    }\n",
       "\n",
       "    .dataframe thead th {\n",
       "        text-align: right;\n",
       "    }\n",
       "</style>\n",
       "<table border=\"1\" class=\"dataframe\">\n",
       "  <thead>\n",
       "    <tr style=\"text-align: right;\">\n",
       "      <th></th>\n",
       "      <th>survived</th>\n",
       "      <th>pclass</th>\n",
       "      <th>sex</th>\n",
       "      <th>age</th>\n",
       "      <th>sibsp</th>\n",
       "      <th>parch</th>\n",
       "      <th>fare</th>\n",
       "      <th>embarked</th>\n",
       "      <th>class</th>\n",
       "      <th>who</th>\n",
       "      <th>adult_male</th>\n",
       "      <th>deck</th>\n",
       "      <th>embark_town</th>\n",
       "      <th>alive</th>\n",
       "      <th>alone</th>\n",
       "    </tr>\n",
       "  </thead>\n",
       "  <tbody>\n",
       "    <tr>\n",
       "      <th>0</th>\n",
       "      <td>0</td>\n",
       "      <td>3</td>\n",
       "      <td>male</td>\n",
       "      <td>22.0</td>\n",
       "      <td>1</td>\n",
       "      <td>0</td>\n",
       "      <td>7.2500</td>\n",
       "      <td>S</td>\n",
       "      <td>Third</td>\n",
       "      <td>man</td>\n",
       "      <td>True</td>\n",
       "      <td>NaN</td>\n",
       "      <td>Southampton</td>\n",
       "      <td>no</td>\n",
       "      <td>False</td>\n",
       "    </tr>\n",
       "    <tr>\n",
       "      <th>1</th>\n",
       "      <td>1</td>\n",
       "      <td>1</td>\n",
       "      <td>female</td>\n",
       "      <td>38.0</td>\n",
       "      <td>1</td>\n",
       "      <td>0</td>\n",
       "      <td>71.2833</td>\n",
       "      <td>C</td>\n",
       "      <td>First</td>\n",
       "      <td>woman</td>\n",
       "      <td>False</td>\n",
       "      <td>C</td>\n",
       "      <td>Cherbourg</td>\n",
       "      <td>yes</td>\n",
       "      <td>False</td>\n",
       "    </tr>\n",
       "    <tr>\n",
       "      <th>2</th>\n",
       "      <td>1</td>\n",
       "      <td>3</td>\n",
       "      <td>female</td>\n",
       "      <td>26.0</td>\n",
       "      <td>0</td>\n",
       "      <td>0</td>\n",
       "      <td>7.9250</td>\n",
       "      <td>S</td>\n",
       "      <td>Third</td>\n",
       "      <td>woman</td>\n",
       "      <td>False</td>\n",
       "      <td>NaN</td>\n",
       "      <td>Southampton</td>\n",
       "      <td>yes</td>\n",
       "      <td>True</td>\n",
       "    </tr>\n",
       "    <tr>\n",
       "      <th>3</th>\n",
       "      <td>1</td>\n",
       "      <td>1</td>\n",
       "      <td>female</td>\n",
       "      <td>35.0</td>\n",
       "      <td>1</td>\n",
       "      <td>0</td>\n",
       "      <td>53.1000</td>\n",
       "      <td>S</td>\n",
       "      <td>First</td>\n",
       "      <td>woman</td>\n",
       "      <td>False</td>\n",
       "      <td>C</td>\n",
       "      <td>Southampton</td>\n",
       "      <td>yes</td>\n",
       "      <td>False</td>\n",
       "    </tr>\n",
       "    <tr>\n",
       "      <th>4</th>\n",
       "      <td>0</td>\n",
       "      <td>3</td>\n",
       "      <td>male</td>\n",
       "      <td>35.0</td>\n",
       "      <td>0</td>\n",
       "      <td>0</td>\n",
       "      <td>8.0500</td>\n",
       "      <td>S</td>\n",
       "      <td>Third</td>\n",
       "      <td>man</td>\n",
       "      <td>True</td>\n",
       "      <td>NaN</td>\n",
       "      <td>Southampton</td>\n",
       "      <td>no</td>\n",
       "      <td>True</td>\n",
       "    </tr>\n",
       "  </tbody>\n",
       "</table>\n",
       "</div>"
      ],
      "text/plain": [
       "   survived  pclass     sex   age  sibsp  parch     fare embarked  class  \\\n",
       "0         0       3    male  22.0      1      0   7.2500        S  Third   \n",
       "1         1       1  female  38.0      1      0  71.2833        C  First   \n",
       "2         1       3  female  26.0      0      0   7.9250        S  Third   \n",
       "3         1       1  female  35.0      1      0  53.1000        S  First   \n",
       "4         0       3    male  35.0      0      0   8.0500        S  Third   \n",
       "\n",
       "     who  adult_male deck  embark_town alive  alone  \n",
       "0    man        True  NaN  Southampton    no  False  \n",
       "1  woman       False    C    Cherbourg   yes  False  \n",
       "2  woman       False  NaN  Southampton   yes   True  \n",
       "3  woman       False    C  Southampton   yes  False  \n",
       "4    man        True  NaN  Southampton    no   True  "
      ]
     },
     "execution_count": 12,
     "metadata": {},
     "output_type": "execute_result"
    }
   ],
   "source": [
    "df.head()"
   ]
  },
  {
   "cell_type": "code",
   "execution_count": 13,
   "id": "f7a3d0c0",
   "metadata": {},
   "outputs": [],
   "source": [
    "tips=sns.load_dataset('tips')"
   ]
  },
  {
   "cell_type": "code",
   "execution_count": 14,
   "id": "4d1db911",
   "metadata": {},
   "outputs": [
    {
     "data": {
      "text/html": [
       "<div>\n",
       "<style scoped>\n",
       "    .dataframe tbody tr th:only-of-type {\n",
       "        vertical-align: middle;\n",
       "    }\n",
       "\n",
       "    .dataframe tbody tr th {\n",
       "        vertical-align: top;\n",
       "    }\n",
       "\n",
       "    .dataframe thead th {\n",
       "        text-align: right;\n",
       "    }\n",
       "</style>\n",
       "<table border=\"1\" class=\"dataframe\">\n",
       "  <thead>\n",
       "    <tr style=\"text-align: right;\">\n",
       "      <th></th>\n",
       "      <th>total_bill</th>\n",
       "      <th>tip</th>\n",
       "      <th>sex</th>\n",
       "      <th>smoker</th>\n",
       "      <th>day</th>\n",
       "      <th>time</th>\n",
       "      <th>size</th>\n",
       "    </tr>\n",
       "  </thead>\n",
       "  <tbody>\n",
       "    <tr>\n",
       "      <th>0</th>\n",
       "      <td>16.99</td>\n",
       "      <td>1.01</td>\n",
       "      <td>Female</td>\n",
       "      <td>No</td>\n",
       "      <td>Sun</td>\n",
       "      <td>Dinner</td>\n",
       "      <td>2</td>\n",
       "    </tr>\n",
       "    <tr>\n",
       "      <th>1</th>\n",
       "      <td>10.34</td>\n",
       "      <td>1.66</td>\n",
       "      <td>Male</td>\n",
       "      <td>No</td>\n",
       "      <td>Sun</td>\n",
       "      <td>Dinner</td>\n",
       "      <td>3</td>\n",
       "    </tr>\n",
       "    <tr>\n",
       "      <th>2</th>\n",
       "      <td>21.01</td>\n",
       "      <td>3.50</td>\n",
       "      <td>Male</td>\n",
       "      <td>No</td>\n",
       "      <td>Sun</td>\n",
       "      <td>Dinner</td>\n",
       "      <td>3</td>\n",
       "    </tr>\n",
       "    <tr>\n",
       "      <th>3</th>\n",
       "      <td>23.68</td>\n",
       "      <td>3.31</td>\n",
       "      <td>Male</td>\n",
       "      <td>No</td>\n",
       "      <td>Sun</td>\n",
       "      <td>Dinner</td>\n",
       "      <td>2</td>\n",
       "    </tr>\n",
       "    <tr>\n",
       "      <th>4</th>\n",
       "      <td>24.59</td>\n",
       "      <td>3.61</td>\n",
       "      <td>Female</td>\n",
       "      <td>No</td>\n",
       "      <td>Sun</td>\n",
       "      <td>Dinner</td>\n",
       "      <td>4</td>\n",
       "    </tr>\n",
       "    <tr>\n",
       "      <th>...</th>\n",
       "      <td>...</td>\n",
       "      <td>...</td>\n",
       "      <td>...</td>\n",
       "      <td>...</td>\n",
       "      <td>...</td>\n",
       "      <td>...</td>\n",
       "      <td>...</td>\n",
       "    </tr>\n",
       "    <tr>\n",
       "      <th>239</th>\n",
       "      <td>29.03</td>\n",
       "      <td>5.92</td>\n",
       "      <td>Male</td>\n",
       "      <td>No</td>\n",
       "      <td>Sat</td>\n",
       "      <td>Dinner</td>\n",
       "      <td>3</td>\n",
       "    </tr>\n",
       "    <tr>\n",
       "      <th>240</th>\n",
       "      <td>27.18</td>\n",
       "      <td>2.00</td>\n",
       "      <td>Female</td>\n",
       "      <td>Yes</td>\n",
       "      <td>Sat</td>\n",
       "      <td>Dinner</td>\n",
       "      <td>2</td>\n",
       "    </tr>\n",
       "    <tr>\n",
       "      <th>241</th>\n",
       "      <td>22.67</td>\n",
       "      <td>2.00</td>\n",
       "      <td>Male</td>\n",
       "      <td>Yes</td>\n",
       "      <td>Sat</td>\n",
       "      <td>Dinner</td>\n",
       "      <td>2</td>\n",
       "    </tr>\n",
       "    <tr>\n",
       "      <th>242</th>\n",
       "      <td>17.82</td>\n",
       "      <td>1.75</td>\n",
       "      <td>Male</td>\n",
       "      <td>No</td>\n",
       "      <td>Sat</td>\n",
       "      <td>Dinner</td>\n",
       "      <td>2</td>\n",
       "    </tr>\n",
       "    <tr>\n",
       "      <th>243</th>\n",
       "      <td>18.78</td>\n",
       "      <td>3.00</td>\n",
       "      <td>Female</td>\n",
       "      <td>No</td>\n",
       "      <td>Thur</td>\n",
       "      <td>Dinner</td>\n",
       "      <td>2</td>\n",
       "    </tr>\n",
       "  </tbody>\n",
       "</table>\n",
       "<p>244 rows × 7 columns</p>\n",
       "</div>"
      ],
      "text/plain": [
       "     total_bill   tip     sex smoker   day    time  size\n",
       "0         16.99  1.01  Female     No   Sun  Dinner     2\n",
       "1         10.34  1.66    Male     No   Sun  Dinner     3\n",
       "2         21.01  3.50    Male     No   Sun  Dinner     3\n",
       "3         23.68  3.31    Male     No   Sun  Dinner     2\n",
       "4         24.59  3.61  Female     No   Sun  Dinner     4\n",
       "..          ...   ...     ...    ...   ...     ...   ...\n",
       "239       29.03  5.92    Male     No   Sat  Dinner     3\n",
       "240       27.18  2.00  Female    Yes   Sat  Dinner     2\n",
       "241       22.67  2.00    Male    Yes   Sat  Dinner     2\n",
       "242       17.82  1.75    Male     No   Sat  Dinner     2\n",
       "243       18.78  3.00  Female     No  Thur  Dinner     2\n",
       "\n",
       "[244 rows x 7 columns]"
      ]
     },
     "execution_count": 14,
     "metadata": {},
     "output_type": "execute_result"
    }
   ],
   "source": [
    "tips"
   ]
  },
  {
   "cell_type": "code",
   "execution_count": 15,
   "id": "162fbf9f",
   "metadata": {},
   "outputs": [
    {
     "data": {
      "text/plain": [
       "<Axes: title={'center': 'total_bill'}, xlabel='day'>"
      ]
     },
     "execution_count": 15,
     "metadata": {},
     "output_type": "execute_result"
    },
    {
     "data": {
      "image/png": "[encoded data removed]",
      "text/plain": [
       "<Figure size 640x480 with 1 Axes>"
      ]
     },
     "metadata": {},
     "output_type": "display_data"
    }
   ],
   "source": [
    "tips.boxplot(by='day',column='total_bill',grid=False)"
   ]
  },
  {
   "cell_type": "code",
   "execution_count": 19,
   "id": "001ba3f5",
   "metadata": {},
   "outputs": [
    {
     "data": {
      "text/plain": [
       "<Axes: title={'center': 'total_bill'}, xlabel='sex'>"
      ]
     },
     "execution_count": 19,
     "metadata": {},
     "output_type": "execute_result"
    },
    {
     "data": {
      "image/png": "[encoded data removed]",
      "text/plain": [
       "<Figure size 640x480 with 1 Axes>"
      ]
     },
     "metadata": {},
     "output_type": "display_data"
    }
   ],
   "source": [
    "tips.boxplot(by='sex',column='total_bill')"
   ]
  },
  {
   "cell_type": "code",
   "execution_count": 20,
   "id": "5a22624f",
   "metadata": {},
   "outputs": [],
   "source": [
    "ds = sns.load_dataset('titanic')"
   ]
  },
  {
   "cell_type": "code",
   "execution_count": 21,
   "id": "819ef333",
   "metadata": {},
   "outputs": [
    {
     "data": {
      "text/html": [
       "<div>\n",
       "<style scoped>\n",
       "    .dataframe tbody tr th:only-of-type {\n",
       "        vertical-align: middle;\n",
       "    }\n",
       "\n",
       "    .dataframe tbody tr th {\n",
       "        vertical-align: top;\n",
       "    }\n",
       "\n",
       "    .dataframe thead th {\n",
       "        text-align: right;\n",
       "    }\n",
       "</style>\n",
       "<table border=\"1\" class=\"dataframe\">\n",
       "  <thead>\n",
       "    <tr style=\"text-align: right;\">\n",
       "      <th></th>\n",
       "      <th>survived</th>\n",
       "      <th>pclass</th>\n",
       "      <th>sex</th>\n",
       "      <th>age</th>\n",
       "      <th>sibsp</th>\n",
       "      <th>parch</th>\n",
       "      <th>fare</th>\n",
       "      <th>embarked</th>\n",
       "      <th>class</th>\n",
       "      <th>who</th>\n",
       "      <th>adult_male</th>\n",
       "      <th>deck</th>\n",
       "      <th>embark_town</th>\n",
       "      <th>alive</th>\n",
       "      <th>alone</th>\n",
       "    </tr>\n",
       "  </thead>\n",
       "  <tbody>\n",
       "    <tr>\n",
       "      <th>0</th>\n",
       "      <td>0</td>\n",
       "      <td>3</td>\n",
       "      <td>male</td>\n",
       "      <td>22.0</td>\n",
       "      <td>1</td>\n",
       "      <td>0</td>\n",
       "      <td>7.2500</td>\n",
       "      <td>S</td>\n",
       "      <td>Third</td>\n",
       "      <td>man</td>\n",
       "      <td>True</td>\n",
       "      <td>NaN</td>\n",
       "      <td>Southampton</td>\n",
       "      <td>no</td>\n",
       "      <td>False</td>\n",
       "    </tr>\n",
       "    <tr>\n",
       "      <th>1</th>\n",
       "      <td>1</td>\n",
       "      <td>1</td>\n",
       "      <td>female</td>\n",
       "      <td>38.0</td>\n",
       "      <td>1</td>\n",
       "      <td>0</td>\n",
       "      <td>71.2833</td>\n",
       "      <td>C</td>\n",
       "      <td>First</td>\n",
       "      <td>woman</td>\n",
       "      <td>False</td>\n",
       "      <td>C</td>\n",
       "      <td>Cherbourg</td>\n",
       "      <td>yes</td>\n",
       "      <td>False</td>\n",
       "    </tr>\n",
       "    <tr>\n",
       "      <th>2</th>\n",
       "      <td>1</td>\n",
       "      <td>3</td>\n",
       "      <td>female</td>\n",
       "      <td>26.0</td>\n",
       "      <td>0</td>\n",
       "      <td>0</td>\n",
       "      <td>7.9250</td>\n",
       "      <td>S</td>\n",
       "      <td>Third</td>\n",
       "      <td>woman</td>\n",
       "      <td>False</td>\n",
       "      <td>NaN</td>\n",
       "      <td>Southampton</td>\n",
       "      <td>yes</td>\n",
       "      <td>True</td>\n",
       "    </tr>\n",
       "    <tr>\n",
       "      <th>3</th>\n",
       "      <td>1</td>\n",
       "      <td>1</td>\n",
       "      <td>female</td>\n",
       "      <td>35.0</td>\n",
       "      <td>1</td>\n",
       "      <td>0</td>\n",
       "      <td>53.1000</td>\n",
       "      <td>S</td>\n",
       "      <td>First</td>\n",
       "      <td>woman</td>\n",
       "      <td>False</td>\n",
       "      <td>C</td>\n",
       "      <td>Southampton</td>\n",
       "      <td>yes</td>\n",
       "      <td>False</td>\n",
       "    </tr>\n",
       "    <tr>\n",
       "      <th>4</th>\n",
       "      <td>0</td>\n",
       "      <td>3</td>\n",
       "      <td>male</td>\n",
       "      <td>35.0</td>\n",
       "      <td>0</td>\n",
       "      <td>0</td>\n",
       "      <td>8.0500</td>\n",
       "      <td>S</td>\n",
       "      <td>Third</td>\n",
       "      <td>man</td>\n",
       "      <td>True</td>\n",
       "      <td>NaN</td>\n",
       "      <td>Southampton</td>\n",
       "      <td>no</td>\n",
       "      <td>True</td>\n",
       "    </tr>\n",
       "  </tbody>\n",
       "</table>\n",
       "</div>"
      ],
      "text/plain": [
       "   survived  pclass     sex   age  sibsp  parch     fare embarked  class  \\\n",
       "0         0       3    male  22.0      1      0   7.2500        S  Third   \n",
       "1         1       1  female  38.0      1      0  71.2833        C  First   \n",
       "2         1       3  female  26.0      0      0   7.9250        S  Third   \n",
       "3         1       1  female  35.0      1      0  53.1000        S  First   \n",
       "4         0       3    male  35.0      0      0   8.0500        S  Third   \n",
       "\n",
       "     who  adult_male deck  embark_town alive  alone  \n",
       "0    man        True  NaN  Southampton    no  False  \n",
       "1  woman       False    C    Cherbourg   yes  False  \n",
       "2  woman       False  NaN  Southampton   yes   True  \n",
       "3  woman       False    C  Southampton   yes  False  \n",
       "4    man        True  NaN  Southampton    no   True  "
      ]
     },
     "execution_count": 21,
     "metadata": {},
     "output_type": "execute_result"
    }
   ],
   "source": [
    "ds.head()"
   ]
  },
  {
   "cell_type": "code",
   "execution_count": 33,
   "id": "1e6bfcec",
   "metadata": {},
   "outputs": [],
   "source": [
    "age1 = ds['age']"
   ]
  },
  {
   "cell_type": "code",
   "execution_count": 32,
   "id": "44940f20",
   "metadata": {},
   "outputs": [
    {
     "data": {
      "text/plain": [
       "<seaborn.axisgrid.FacetGrid at 0x20610a82e60>"
      ]
     },
     "execution_count": 32,
     "metadata": {},
     "output_type": "execute_result"
    },
    {
     "data": {
      "image/png": "[encoded data removed]",
      "text/plain": [
       "<Figure size 500x500 with 1 Axes>"
      ]
     },
     "metadata": {},
     "output_type": "display_data"
    }
   ],
   "source": [
    "sns.displot(age1,bins=10,kde=False)"
   ]
  },
  {
   "cell_type": "code",
   "execution_count": 34,
   "id": "91af734c",
   "metadata": {},
   "outputs": [],
   "source": [
    "data=sns.load_dataset('iris')"
   ]
  },
  {
   "cell_type": "code",
   "execution_count": 35,
   "id": "62f4c583",
   "metadata": {},
   "outputs": [
    {
     "data": {
      "text/html": [
       "<div>\n",
       "<style scoped>\n",
       "    .dataframe tbody tr th:only-of-type {\n",
       "        vertical-align: middle;\n",
       "    }\n",
       "\n",
       "    .dataframe tbody tr th {\n",
       "        vertical-align: top;\n",
       "    }\n",
       "\n",
       "    .dataframe thead th {\n",
       "        text-align: right;\n",
       "    }\n",
       "</style>\n",
       "<table border=\"1\" class=\"dataframe\">\n",
       "  <thead>\n",
       "    <tr style=\"text-align: right;\">\n",
       "      <th></th>\n",
       "      <th>sepal_length</th>\n",
       "      <th>sepal_width</th>\n",
       "      <th>petal_length</th>\n",
       "      <th>petal_width</th>\n",
       "      <th>species</th>\n",
       "    </tr>\n",
       "  </thead>\n",
       "  <tbody>\n",
       "    <tr>\n",
       "      <th>0</th>\n",
       "      <td>5.1</td>\n",
       "      <td>3.5</td>\n",
       "      <td>1.4</td>\n",
       "      <td>0.2</td>\n",
       "      <td>setosa</td>\n",
       "    </tr>\n",
       "    <tr>\n",
       "      <th>1</th>\n",
       "      <td>4.9</td>\n",
       "      <td>3.0</td>\n",
       "      <td>1.4</td>\n",
       "      <td>0.2</td>\n",
       "      <td>setosa</td>\n",
       "    </tr>\n",
       "    <tr>\n",
       "      <th>2</th>\n",
       "      <td>4.7</td>\n",
       "      <td>3.2</td>\n",
       "      <td>1.3</td>\n",
       "      <td>0.2</td>\n",
       "      <td>setosa</td>\n",
       "    </tr>\n",
       "    <tr>\n",
       "      <th>3</th>\n",
       "      <td>4.6</td>\n",
       "      <td>3.1</td>\n",
       "      <td>1.5</td>\n",
       "      <td>0.2</td>\n",
       "      <td>setosa</td>\n",
       "    </tr>\n",
       "    <tr>\n",
       "      <th>4</th>\n",
       "      <td>5.0</td>\n",
       "      <td>3.6</td>\n",
       "      <td>1.4</td>\n",
       "      <td>0.2</td>\n",
       "      <td>setosa</td>\n",
       "    </tr>\n",
       "  </tbody>\n",
       "</table>\n",
       "</div>"
      ],
      "text/plain": [
       "   sepal_length  sepal_width  petal_length  petal_width species\n",
       "0           5.1          3.5           1.4          0.2  setosa\n",
       "1           4.9          3.0           1.4          0.2  setosa\n",
       "2           4.7          3.2           1.3          0.2  setosa\n",
       "3           4.6          3.1           1.5          0.2  setosa\n",
       "4           5.0          3.6           1.4          0.2  setosa"
      ]
     },
     "execution_count": 35,
     "metadata": {},
     "output_type": "execute_result"
    }
   ],
   "source": [
    "data.head()"
   ]
  },
  {
   "cell_type": "code",
   "execution_count": 36,
   "id": "3412cbbb",
   "metadata": {},
   "outputs": [
    {
     "data": {
      "text/plain": [
       "<Axes: xlabel='sepal_length', ylabel='petal_length'>"
      ]
     },
     "execution_count": 36,
     "metadata": {},
     "output_type": "execute_result"
    },
    {
     "data": {
      "image/png": "[encoded data removed]",
      "text/plain": [
       "<Figure size 640x480 with 1 Axes>"
      ]
     },
     "metadata": {},
     "output_type": "display_data"
    }
   ],
   "source": [
    "sns.regplot(x='sepal_length',y='petal_length',data=data)"
   ]
  },
  {
   "cell_type": "code",
   "execution_count": 37,
   "id": "ff541f4c",
   "metadata": {},
   "outputs": [],
   "source": [
    "df=sns.load_dataset('glue')"
   ]
  },
  {
   "cell_type": "code",
   "execution_count": 38,
   "id": "16ab5dea",
   "metadata": {},
   "outputs": [
    {
     "data": {
      "text/plain": [
       "Model      0\n",
       "Year       0\n",
       "Encoder    0\n",
       "Task       0\n",
       "Score      0\n",
       "dtype: int64"
      ]
     },
     "execution_count": 38,
     "metadata": {},
     "output_type": "execute_result"
    }
   ],
   "source": [
    "df.isnull().sum()"
   ]
  },
  {
   "cell_type": "code",
   "execution_count": 39,
   "id": "0281a8e8",
   "metadata": {},
   "outputs": [],
   "source": [
    "df=sns.load_dataset('titanic')"
   ]
  },
  {
   "cell_type": "code",
   "execution_count": 40,
   "id": "2f5ddd6c",
   "metadata": {},
   "outputs": [
    {
     "data": {
      "text/plain": [
       "survived         0\n",
       "pclass           0\n",
       "sex              0\n",
       "age            177\n",
       "sibsp            0\n",
       "parch            0\n",
       "fare             0\n",
       "embarked         2\n",
       "class            0\n",
       "who              0\n",
       "adult_male       0\n",
       "deck           688\n",
       "embark_town      2\n",
       "alive            0\n",
       "alone            0\n",
       "dtype: int64"
      ]
     },
     "execution_count": 40,
     "metadata": {},
     "output_type": "execute_result"
    }
   ],
   "source": [
    "df.isnull().sum()"
   ]
  },
  {
   "cell_type": "code",
   "execution_count": 41,
   "id": "6a8b2758",
   "metadata": {},
   "outputs": [],
   "source": [
    "df['age']=df['age'].fillna(df['age'].mean())"
   ]
  },
  {
   "cell_type": "code",
   "execution_count": 42,
   "id": "e59e8733",
   "metadata": {},
   "outputs": [
    {
     "data": {
      "text/plain": [
       "survived         0\n",
       "pclass           0\n",
       "sex              0\n",
       "age              0\n",
       "sibsp            0\n",
       "parch            0\n",
       "fare             0\n",
       "embarked         2\n",
       "class            0\n",
       "who              0\n",
       "adult_male       0\n",
       "deck           688\n",
       "embark_town      2\n",
       "alive            0\n",
       "alone            0\n",
       "dtype: int64"
      ]
     },
     "execution_count": 42,
     "metadata": {},
     "output_type": "execute_result"
    }
   ],
   "source": [
    "df.isnull().sum()"
   ]
  },
  {
   "cell_type": "code",
   "execution_count": 43,
   "id": "e3adf4fd",
   "metadata": {},
   "outputs": [
    {
     "data": {
      "text/html": [
       "<div>\n",
       "<style scoped>\n",
       "    .dataframe tbody tr th:only-of-type {\n",
       "        vertical-align: middle;\n",
       "    }\n",
       "\n",
       "    .dataframe tbody tr th {\n",
       "        vertical-align: top;\n",
       "    }\n",
       "\n",
       "    .dataframe thead th {\n",
       "        text-align: right;\n",
       "    }\n",
       "</style>\n",
       "<table border=\"1\" class=\"dataframe\">\n",
       "  <thead>\n",
       "    <tr style=\"text-align: right;\">\n",
       "      <th></th>\n",
       "      <th>survived</th>\n",
       "      <th>pclass</th>\n",
       "      <th>sex</th>\n",
       "      <th>age</th>\n",
       "      <th>sibsp</th>\n",
       "      <th>parch</th>\n",
       "      <th>fare</th>\n",
       "      <th>embarked</th>\n",
       "      <th>class</th>\n",
       "      <th>who</th>\n",
       "      <th>adult_male</th>\n",
       "      <th>deck</th>\n",
       "      <th>embark_town</th>\n",
       "      <th>alive</th>\n",
       "      <th>alone</th>\n",
       "    </tr>\n",
       "  </thead>\n",
       "  <tbody>\n",
       "    <tr>\n",
       "      <th>0</th>\n",
       "      <td>0</td>\n",
       "      <td>3</td>\n",
       "      <td>male</td>\n",
       "      <td>22.0</td>\n",
       "      <td>1</td>\n",
       "      <td>0</td>\n",
       "      <td>7.2500</td>\n",
       "      <td>S</td>\n",
       "      <td>Third</td>\n",
       "      <td>man</td>\n",
       "      <td>True</td>\n",
       "      <td>NaN</td>\n",
       "      <td>Southampton</td>\n",
       "      <td>no</td>\n",
       "      <td>False</td>\n",
       "    </tr>\n",
       "    <tr>\n",
       "      <th>1</th>\n",
       "      <td>1</td>\n",
       "      <td>1</td>\n",
       "      <td>female</td>\n",
       "      <td>38.0</td>\n",
       "      <td>1</td>\n",
       "      <td>0</td>\n",
       "      <td>71.2833</td>\n",
       "      <td>C</td>\n",
       "      <td>First</td>\n",
       "      <td>woman</td>\n",
       "      <td>False</td>\n",
       "      <td>C</td>\n",
       "      <td>Cherbourg</td>\n",
       "      <td>yes</td>\n",
       "      <td>False</td>\n",
       "    </tr>\n",
       "    <tr>\n",
       "      <th>2</th>\n",
       "      <td>1</td>\n",
       "      <td>3</td>\n",
       "      <td>female</td>\n",
       "      <td>26.0</td>\n",
       "      <td>0</td>\n",
       "      <td>0</td>\n",
       "      <td>7.9250</td>\n",
       "      <td>S</td>\n",
       "      <td>Third</td>\n",
       "      <td>woman</td>\n",
       "      <td>False</td>\n",
       "      <td>NaN</td>\n",
       "      <td>Southampton</td>\n",
       "      <td>yes</td>\n",
       "      <td>True</td>\n",
       "    </tr>\n",
       "    <tr>\n",
       "      <th>3</th>\n",
       "      <td>1</td>\n",
       "      <td>1</td>\n",
       "      <td>female</td>\n",
       "      <td>35.0</td>\n",
       "      <td>1</td>\n",
       "      <td>0</td>\n",
       "      <td>53.1000</td>\n",
       "      <td>S</td>\n",
       "      <td>First</td>\n",
       "      <td>woman</td>\n",
       "      <td>False</td>\n",
       "      <td>C</td>\n",
       "      <td>Southampton</td>\n",
       "      <td>yes</td>\n",
       "      <td>False</td>\n",
       "    </tr>\n",
       "    <tr>\n",
       "      <th>4</th>\n",
       "      <td>0</td>\n",
       "      <td>3</td>\n",
       "      <td>male</td>\n",
       "      <td>35.0</td>\n",
       "      <td>0</td>\n",
       "      <td>0</td>\n",
       "      <td>8.0500</td>\n",
       "      <td>S</td>\n",
       "      <td>Third</td>\n",
       "      <td>man</td>\n",
       "      <td>True</td>\n",
       "      <td>NaN</td>\n",
       "      <td>Southampton</td>\n",
       "      <td>no</td>\n",
       "      <td>True</td>\n",
       "    </tr>\n",
       "  </tbody>\n",
       "</table>\n",
       "</div>"
      ],
      "text/plain": [
       "   survived  pclass     sex   age  sibsp  parch     fare embarked  class  \\\n",
       "0         0       3    male  22.0      1      0   7.2500        S  Third   \n",
       "1         1       1  female  38.0      1      0  71.2833        C  First   \n",
       "2         1       3  female  26.0      0      0   7.9250        S  Third   \n",
       "3         1       1  female  35.0      1      0  53.1000        S  First   \n",
       "4         0       3    male  35.0      0      0   8.0500        S  Third   \n",
       "\n",
       "     who  adult_male deck  embark_town alive  alone  \n",
       "0    man        True  NaN  Southampton    no  False  \n",
       "1  woman       False    C    Cherbourg   yes  False  \n",
       "2  woman       False  NaN  Southampton   yes   True  \n",
       "3  woman       False    C  Southampton   yes  False  \n",
       "4    man        True  NaN  Southampton    no   True  "
      ]
     },
     "execution_count": 43,
     "metadata": {},
     "output_type": "execute_result"
    }
   ],
   "source": [
    "df.head()"
   ]
  },
  {
   "cell_type": "code",
   "execution_count": 44,
   "id": "50c6c5ac",
   "metadata": {},
   "outputs": [],
   "source": [
    "df['deck']=df['deck'].fillna(df['deck'].mode()[0])"
   ]
  },
  {
   "cell_type": "code",
   "execution_count": 45,
   "id": "5e94170f",
   "metadata": {},
   "outputs": [
    {
     "data": {
      "text/plain": [
       "survived       0\n",
       "pclass         0\n",
       "sex            0\n",
       "age            0\n",
       "sibsp          0\n",
       "parch          0\n",
       "fare           0\n",
       "embarked       2\n",
       "class          0\n",
       "who            0\n",
       "adult_male     0\n",
       "deck           0\n",
       "embark_town    2\n",
       "alive          0\n",
       "alone          0\n",
       "dtype: int64"
      ]
     },
     "execution_count": 45,
     "metadata": {},
     "output_type": "execute_result"
    }
   ],
   "source": [
    "df.isnull().sum()"
   ]
  },
  {
   "cell_type": "code",
   "execution_count": 46,
   "id": "37533140",
   "metadata": {},
   "outputs": [
    {
     "data": {
      "text/html": [
       "<div>\n",
       "<style scoped>\n",
       "    .dataframe tbody tr th:only-of-type {\n",
       "        vertical-align: middle;\n",
       "    }\n",
       "\n",
       "    .dataframe tbody tr th {\n",
       "        vertical-align: top;\n",
       "    }\n",
       "\n",
       "    .dataframe thead th {\n",
       "        text-align: right;\n",
       "    }\n",
       "</style>\n",
       "<table border=\"1\" class=\"dataframe\">\n",
       "  <thead>\n",
       "    <tr style=\"text-align: right;\">\n",
       "      <th></th>\n",
       "      <th>survived</th>\n",
       "      <th>pclass</th>\n",
       "      <th>sex</th>\n",
       "      <th>age</th>\n",
       "      <th>sibsp</th>\n",
       "      <th>parch</th>\n",
       "      <th>fare</th>\n",
       "      <th>embarked</th>\n",
       "      <th>class</th>\n",
       "      <th>who</th>\n",
       "      <th>adult_male</th>\n",
       "      <th>deck</th>\n",
       "      <th>embark_town</th>\n",
       "      <th>alive</th>\n",
       "      <th>alone</th>\n",
       "    </tr>\n",
       "  </thead>\n",
       "  <tbody>\n",
       "    <tr>\n",
       "      <th>0</th>\n",
       "      <td>0</td>\n",
       "      <td>3</td>\n",
       "      <td>male</td>\n",
       "      <td>22.0</td>\n",
       "      <td>1</td>\n",
       "      <td>0</td>\n",
       "      <td>7.2500</td>\n",
       "      <td>S</td>\n",
       "      <td>Third</td>\n",
       "      <td>man</td>\n",
       "      <td>True</td>\n",
       "      <td>C</td>\n",
       "      <td>Southampton</td>\n",
       "      <td>no</td>\n",
       "      <td>False</td>\n",
       "    </tr>\n",
       "    <tr>\n",
       "      <th>1</th>\n",
       "      <td>1</td>\n",
       "      <td>1</td>\n",
       "      <td>female</td>\n",
       "      <td>38.0</td>\n",
       "      <td>1</td>\n",
       "      <td>0</td>\n",
       "      <td>71.2833</td>\n",
       "      <td>C</td>\n",
       "      <td>First</td>\n",
       "      <td>woman</td>\n",
       "      <td>False</td>\n",
       "      <td>C</td>\n",
       "      <td>Cherbourg</td>\n",
       "      <td>yes</td>\n",
       "      <td>False</td>\n",
       "    </tr>\n",
       "    <tr>\n",
       "      <th>2</th>\n",
       "      <td>1</td>\n",
       "      <td>3</td>\n",
       "      <td>female</td>\n",
       "      <td>26.0</td>\n",
       "      <td>0</td>\n",
       "      <td>0</td>\n",
       "      <td>7.9250</td>\n",
       "      <td>S</td>\n",
       "      <td>Third</td>\n",
       "      <td>woman</td>\n",
       "      <td>False</td>\n",
       "      <td>C</td>\n",
       "      <td>Southampton</td>\n",
       "      <td>yes</td>\n",
       "      <td>True</td>\n",
       "    </tr>\n",
       "    <tr>\n",
       "      <th>3</th>\n",
       "      <td>1</td>\n",
       "      <td>1</td>\n",
       "      <td>female</td>\n",
       "      <td>35.0</td>\n",
       "      <td>1</td>\n",
       "      <td>0</td>\n",
       "      <td>53.1000</td>\n",
       "      <td>S</td>\n",
       "      <td>First</td>\n",
       "      <td>woman</td>\n",
       "      <td>False</td>\n",
       "      <td>C</td>\n",
       "      <td>Southampton</td>\n",
       "      <td>yes</td>\n",
       "      <td>False</td>\n",
       "    </tr>\n",
       "    <tr>\n",
       "      <th>4</th>\n",
       "      <td>0</td>\n",
       "      <td>3</td>\n",
       "      <td>male</td>\n",
       "      <td>35.0</td>\n",
       "      <td>0</td>\n",
       "      <td>0</td>\n",
       "      <td>8.0500</td>\n",
       "      <td>S</td>\n",
       "      <td>Third</td>\n",
       "      <td>man</td>\n",
       "      <td>True</td>\n",
       "      <td>C</td>\n",
       "      <td>Southampton</td>\n",
       "      <td>no</td>\n",
       "      <td>True</td>\n",
       "    </tr>\n",
       "  </tbody>\n",
       "</table>\n",
       "</div>"
      ],
      "text/plain": [
       "   survived  pclass     sex   age  sibsp  parch     fare embarked  class  \\\n",
       "0         0       3    male  22.0      1      0   7.2500        S  Third   \n",
       "1         1       1  female  38.0      1      0  71.2833        C  First   \n",
       "2         1       3  female  26.0      0      0   7.9250        S  Third   \n",
       "3         1       1  female  35.0      1      0  53.1000        S  First   \n",
       "4         0       3    male  35.0      0      0   8.0500        S  Third   \n",
       "\n",
       "     who  adult_male deck  embark_town alive  alone  \n",
       "0    man        True    C  Southampton    no  False  \n",
       "1  woman       False    C    Cherbourg   yes  False  \n",
       "2  woman       False    C  Southampton   yes   True  \n",
       "3  woman       False    C  Southampton   yes  False  \n",
       "4    man        True    C  Southampton    no   True  "
      ]
     },
     "execution_count": 46,
     "metadata": {},
     "output_type": "execute_result"
    }
   ],
   "source": [
    "df.head()"
   ]
  },
  {
   "cell_type": "code",
   "execution_count": 1,
   "id": "d444b667",
   "metadata": {},
   "outputs": [],
   "source": [
    "import numpy as np\n",
    "import pandas as pd\n",
    "import matplotlib.pyplot as plt\n",
    "import seaborn as sns\n",
    "df = sns.load_dataset('titanic')"
   ]
  },
  {
   "cell_type": "code",
   "execution_count": 2,
   "id": "db68d9a8",
   "metadata": {},
   "outputs": [
    {
     "data": {
      "text/html": [
       "<div>\n",
       "<style scoped>\n",
       "    .dataframe tbody tr th:only-of-type {\n",
       "        vertical-align: middle;\n",
       "    }\n",
       "\n",
       "    .dataframe tbody tr th {\n",
       "        vertical-align: top;\n",
       "    }\n",
       "\n",
       "    .dataframe thead th {\n",
       "        text-align: right;\n",
       "    }\n",
       "</style>\n",
       "<table border=\"1\" class=\"dataframe\">\n",
       "  <thead>\n",
       "    <tr style=\"text-align: right;\">\n",
       "      <th></th>\n",
       "      <th>survived</th>\n",
       "      <th>pclass</th>\n",
       "      <th>sex</th>\n",
       "      <th>age</th>\n",
       "      <th>sibsp</th>\n",
       "      <th>parch</th>\n",
       "      <th>fare</th>\n",
       "      <th>embarked</th>\n",
       "      <th>class</th>\n",
       "      <th>who</th>\n",
       "      <th>adult_male</th>\n",
       "      <th>deck</th>\n",
       "      <th>embark_town</th>\n",
       "      <th>alive</th>\n",
       "      <th>alone</th>\n",
       "    </tr>\n",
       "  </thead>\n",
       "  <tbody>\n",
       "    <tr>\n",
       "      <th>0</th>\n",
       "      <td>0</td>\n",
       "      <td>3</td>\n",
       "      <td>male</td>\n",
       "      <td>22.0</td>\n",
       "      <td>1</td>\n",
       "      <td>0</td>\n",
       "      <td>7.2500</td>\n",
       "      <td>S</td>\n",
       "      <td>Third</td>\n",
       "      <td>man</td>\n",
       "      <td>True</td>\n",
       "      <td>NaN</td>\n",
       "      <td>Southampton</td>\n",
       "      <td>no</td>\n",
       "      <td>False</td>\n",
       "    </tr>\n",
       "    <tr>\n",
       "      <th>1</th>\n",
       "      <td>1</td>\n",
       "      <td>1</td>\n",
       "      <td>female</td>\n",
       "      <td>38.0</td>\n",
       "      <td>1</td>\n",
       "      <td>0</td>\n",
       "      <td>71.2833</td>\n",
       "      <td>C</td>\n",
       "      <td>First</td>\n",
       "      <td>woman</td>\n",
       "      <td>False</td>\n",
       "      <td>C</td>\n",
       "      <td>Cherbourg</td>\n",
       "      <td>yes</td>\n",
       "      <td>False</td>\n",
       "    </tr>\n",
       "    <tr>\n",
       "      <th>2</th>\n",
       "      <td>1</td>\n",
       "      <td>3</td>\n",
       "      <td>female</td>\n",
       "      <td>26.0</td>\n",
       "      <td>0</td>\n",
       "      <td>0</td>\n",
       "      <td>7.9250</td>\n",
       "      <td>S</td>\n",
       "      <td>Third</td>\n",
       "      <td>woman</td>\n",
       "      <td>False</td>\n",
       "      <td>NaN</td>\n",
       "      <td>Southampton</td>\n",
       "      <td>yes</td>\n",
       "      <td>True</td>\n",
       "    </tr>\n",
       "    <tr>\n",
       "      <th>3</th>\n",
       "      <td>1</td>\n",
       "      <td>1</td>\n",
       "      <td>female</td>\n",
       "      <td>35.0</td>\n",
       "      <td>1</td>\n",
       "      <td>0</td>\n",
       "      <td>53.1000</td>\n",
       "      <td>S</td>\n",
       "      <td>First</td>\n",
       "      <td>woman</td>\n",
       "      <td>False</td>\n",
       "      <td>C</td>\n",
       "      <td>Southampton</td>\n",
       "      <td>yes</td>\n",
       "      <td>False</td>\n",
       "    </tr>\n",
       "    <tr>\n",
       "      <th>4</th>\n",
       "      <td>0</td>\n",
       "      <td>3</td>\n",
       "      <td>male</td>\n",
       "      <td>35.0</td>\n",
       "      <td>0</td>\n",
       "      <td>0</td>\n",
       "      <td>8.0500</td>\n",
       "      <td>S</td>\n",
       "      <td>Third</td>\n",
       "      <td>man</td>\n",
       "      <td>True</td>\n",
       "      <td>NaN</td>\n",
       "      <td>Southampton</td>\n",
       "      <td>no</td>\n",
       "      <td>True</td>\n",
       "    </tr>\n",
       "  </tbody>\n",
       "</table>\n",
       "</div>"
      ],
      "text/plain": [
       "   survived  pclass     sex   age  sibsp  parch     fare embarked  class  \\\n",
       "0         0       3    male  22.0      1      0   7.2500        S  Third   \n",
       "1         1       1  female  38.0      1      0  71.2833        C  First   \n",
       "2         1       3  female  26.0      0      0   7.9250        S  Third   \n",
       "3         1       1  female  35.0      1      0  53.1000        S  First   \n",
       "4         0       3    male  35.0      0      0   8.0500        S  Third   \n",
       "\n",
       "     who  adult_male deck  embark_town alive  alone  \n",
       "0    man        True  NaN  Southampton    no  False  \n",
       "1  woman       False    C    Cherbourg   yes  False  \n",
       "2  woman       False  NaN  Southampton   yes   True  \n",
       "3  woman       False    C  Southampton   yes  False  \n",
       "4    man        True  NaN  Southampton    no   True  "
      ]
     },
     "execution_count": 2,
     "metadata": {},
     "output_type": "execute_result"
    }
   ],
   "source": [
    "df.head()"
   ]
  },
  {
   "cell_type": "code",
   "execution_count": 3,
   "id": "351f64fc",
   "metadata": {},
   "outputs": [
    {
     "data": {
      "text/plain": [
       "survived         0\n",
       "pclass           0\n",
       "sex              0\n",
       "age            177\n",
       "sibsp            0\n",
       "parch            0\n",
       "fare             0\n",
       "embarked         2\n",
       "class            0\n",
       "who              0\n",
       "adult_male       0\n",
       "deck           688\n",
       "embark_town      2\n",
       "alive            0\n",
       "alone            0\n",
       "dtype: int64"
      ]
     },
     "execution_count": 3,
     "metadata": {},
     "output_type": "execute_result"
    }
   ],
   "source": [
    "df.isnull().sum()"
   ]
  },
  {
   "cell_type": "code",
   "execution_count": 13,
   "id": "e22c99e4",
   "metadata": {},
   "outputs": [],
   "source": [
    "df['age']=df['age'].fillna(df['age'].mean())"
   ]
  },
  {
   "cell_type": "code",
   "execution_count": 14,
   "id": "63442ca3",
   "metadata": {},
   "outputs": [
    {
     "data": {
      "text/plain": [
       "survived         0\n",
       "pclass           0\n",
       "sex              0\n",
       "age              0\n",
       "sibsp            0\n",
       "parch            0\n",
       "fare             0\n",
       "embarked         2\n",
       "class            0\n",
       "who              0\n",
       "adult_male       0\n",
       "deck           688\n",
       "embark_town      2\n",
       "alive            0\n",
       "alone            0\n",
       "dtype: int64"
      ]
     },
     "execution_count": 14,
     "metadata": {},
     "output_type": "execute_result"
    }
   ],
   "source": [
    "df.isnull().sum()"
   ]
  },
  {
   "cell_type": "code",
   "execution_count": 9,
   "id": "510f0f49",
   "metadata": {},
   "outputs": [
    {
     "name": "stdout",
     "output_type": "stream",
     "text": [
      "Defaulting to user installation because normal site-packages is not writeable\n",
      "Collecting scikit-learn\n",
      "  Downloading scikit_learn-1.2.2-cp310-cp310-win_amd64.whl (8.3 MB)\n",
      "                                              0.0/8.3 MB ? eta -:--:--\n",
      "                                              0.0/8.3 MB ? eta -:--:--\n",
      "                                              0.0/8.3 MB ? eta -:--:--\n",
      "                                              0.1/8.3 MB 939.4 kB/s eta 0:00:09\n",
      "                                              0.1/8.3 MB 939.4 kB/s eta 0:00:09\n",
      "                                              0.1/8.3 MB 939.4 kB/s eta 0:00:09\n",
      "                                              0.1/8.3 MB 939.4 kB/s eta 0:00:09\n",
      "                                              0.2/8.3 MB 623.6 kB/s eta 0:00:13\n",
      "                                              0.2/8.3 MB 623.6 kB/s eta 0:00:13\n",
      "     -                                        0.3/8.3 MB 681.0 kB/s eta 0:00:12\n",
      "     -                                        0.3/8.3 MB 723.4 kB/s eta 0:00:12\n",
      "     --                                       0.5/8.3 MB 932.7 kB/s eta 0:00:09\n",
      "     ---                                      0.7/8.3 MB 1.2 MB/s eta 0:00:07\n",
      "     ---                                      0.8/8.3 MB 1.4 MB/s eta 0:00:06\n",
      "     ----                                     1.0/8.3 MB 1.5 MB/s eta 0:00:05\n",
      "     -----                                    1.2/8.3 MB 1.7 MB/s eta 0:00:05\n",
      "     ------                                   1.4/8.3 MB 1.9 MB/s eta 0:00:04\n",
      "     ------                                   1.4/8.3 MB 1.9 MB/s eta 0:00:04\n",
      "     -------                                  1.5/8.3 MB 1.9 MB/s eta 0:00:04\n",
      "     -------                                  1.5/8.3 MB 1.9 MB/s eta 0:00:04\n",
      "     -------                                  1.5/8.3 MB 1.9 MB/s eta 0:00:04\n",
      "     -------                                  1.5/8.3 MB 1.9 MB/s eta 0:00:04\n",
      "     ---------                                1.9/8.3 MB 1.8 MB/s eta 0:00:04\n",
      "     ----------                               2.2/8.3 MB 2.0 MB/s eta 0:00:04\n",
      "     -----------                              2.4/8.3 MB 2.2 MB/s eta 0:00:03\n",
      "     ------------                             2.7/8.3 MB 2.3 MB/s eta 0:00:03\n",
      "     --------------                           2.9/8.3 MB 2.4 MB/s eta 0:00:03\n",
      "     ---------------                          3.2/8.3 MB 2.6 MB/s eta 0:00:02\n",
      "     -----------------                        3.6/8.3 MB 2.8 MB/s eta 0:00:02\n",
      "     ------------------                       3.8/8.3 MB 2.9 MB/s eta 0:00:02\n",
      "     --------------------                     4.2/8.3 MB 3.0 MB/s eta 0:00:02\n",
      "     ---------------------                    4.4/8.3 MB 3.1 MB/s eta 0:00:02\n",
      "     ---------------------                    4.4/8.3 MB 3.1 MB/s eta 0:00:02\n",
      "     ---------------------                    4.4/8.3 MB 3.1 MB/s eta 0:00:02\n",
      "     ----------------------                   4.6/8.3 MB 3.0 MB/s eta 0:00:02\n",
      "     -----------------------                  4.8/8.3 MB 3.0 MB/s eta 0:00:02\n",
      "     ------------------------                 5.2/8.3 MB 3.1 MB/s eta 0:00:02\n",
      "     --------------------------               5.5/8.3 MB 3.2 MB/s eta 0:00:01\n",
      "     ----------------------------             6.0/8.3 MB 3.4 MB/s eta 0:00:01\n",
      "     -------------------------------          6.4/8.3 MB 3.6 MB/s eta 0:00:01\n",
      "     ---------------------------------        7.0/8.3 MB 3.8 MB/s eta 0:00:01\n",
      "     -----------------------------------      7.5/8.3 MB 3.9 MB/s eta 0:00:01\n",
      "     --------------------------------------   8.0/8.3 MB 4.1 MB/s eta 0:00:01\n",
      "     ---------------------------------------  8.3/8.3 MB 4.2 MB/s eta 0:00:01\n",
      "     ---------------------------------------  8.3/8.3 MB 4.2 MB/s eta 0:00:01\n",
      "     ---------------------------------------  8.3/8.3 MB 4.2 MB/s eta 0:00:01\n",
      "     ---------------------------------------- 8.3/8.3 MB 4.0 MB/s eta 0:00:00\n",
      "Requirement already satisfied: numpy>=1.17.3 in c:\\users\\nikhileswari puvvula\\appdata\\roaming\\python\\python310\\site-packages (from scikit-learn) (1.24.3)\n",
      "Collecting scipy>=1.3.2 (from scikit-learn)\n",
      "  Downloading scipy-1.10.1-cp310-cp310-win_amd64.whl (42.5 MB)\n",
      "                                              0.0/42.5 MB ? eta -:--:--\n",
      "                                              0.6/42.5 MB 19.5 MB/s eta 0:00:03\n",
      "                                              1.0/42.5 MB 12.3 MB/s eta 0:00:04\n",
      "     -                                        1.1/42.5 MB 9.8 MB/s eta 0:00:05\n",
      "     -                                        1.7/42.5 MB 9.8 MB/s eta 0:00:05\n",
      "     -                                        2.1/42.5 MB 9.5 MB/s eta 0:00:05\n",
      "     --                                       2.5/42.5 MB 9.6 MB/s eta 0:00:05\n",
      "     --                                       3.0/42.5 MB 9.6 MB/s eta 0:00:05\n",
      "     ---                                      3.5/42.5 MB 9.7 MB/s eta 0:00:05\n",
      "     ---                                      3.9/42.5 MB 9.6 MB/s eta 0:00:05\n",
      "     ---                                      4.1/42.5 MB 9.0 MB/s eta 0:00:05\n",
      "     ----                                     4.6/42.5 MB 9.1 MB/s eta 0:00:05\n",
      "     ----                                     5.1/42.5 MB 9.2 MB/s eta 0:00:05\n",
      "     -----                                    5.6/42.5 MB 9.3 MB/s eta 0:00:04\n",
      "     -----                                    6.1/42.5 MB 9.5 MB/s eta 0:00:04\n",
      "     ------                                   6.5/42.5 MB 9.5 MB/s eta 0:00:04\n",
      "     ------                                   6.7/42.5 MB 9.7 MB/s eta 0:00:04\n",
      "     ------                                   7.1/42.5 MB 9.1 MB/s eta 0:00:04\n",
      "     -------                                  7.5/42.5 MB 9.1 MB/s eta 0:00:04\n",
      "     -------                                  8.0/42.5 MB 9.3 MB/s eta 0:00:04\n",
      "     -------                                  8.5/42.5 MB 9.2 MB/s eta 0:00:04\n",
      "     --------                                 9.0/42.5 MB 9.4 MB/s eta 0:00:04\n",
      "     --------                                 9.5/42.5 MB 9.5 MB/s eta 0:00:04\n",
      "     ---------                                9.9/42.5 MB 9.4 MB/s eta 0:00:04\n",
      "     ---------                                10.2/42.5 MB 9.3 MB/s eta 0:00:04\n",
      "     ---------                                10.6/42.5 MB 9.1 MB/s eta 0:00:04\n",
      "     ----------                               11.1/42.5 MB 9.1 MB/s eta 0:00:04\n",
      "     ----------                               11.6/42.5 MB 9.6 MB/s eta 0:00:04\n",
      "     -----------                              12.0/42.5 MB 9.4 MB/s eta 0:00:04\n",
      "     -----------                              12.2/42.5 MB 9.5 MB/s eta 0:00:04\n",
      "     ------------                             12.8/42.5 MB 9.4 MB/s eta 0:00:04\n",
      "     ------------                             13.4/42.5 MB 9.4 MB/s eta 0:00:04\n",
      "     -------------                            13.9/42.5 MB 9.4 MB/s eta 0:00:04\n",
      "     -------------                            14.4/42.5 MB 9.6 MB/s eta 0:00:03\n",
      "     --------------                           15.0/42.5 MB 9.8 MB/s eta 0:00:03\n",
      "     --------------                           15.3/42.5 MB 9.8 MB/s eta 0:00:03\n",
      "     --------------                           15.3/42.5 MB 9.4 MB/s eta 0:00:03\n",
      "     --------------                           15.8/42.5 MB 9.2 MB/s eta 0:00:03\n",
      "     ---------------                          16.1/42.5 MB 9.2 MB/s eta 0:00:03\n",
      "     ---------------                          16.7/42.5 MB 9.2 MB/s eta 0:00:03\n",
      "     ----------------                         17.3/42.5 MB 9.5 MB/s eta 0:00:03\n",
      "     ----------------                         17.9/42.5 MB 9.6 MB/s eta 0:00:03\n",
      "     ----------------                         18.0/42.5 MB 9.8 MB/s eta 0:00:03\n",
      "     -----------------                        18.6/42.5 MB 9.4 MB/s eta 0:00:03\n",
      "     -----------------                        19.1/42.5 MB 9.5 MB/s eta 0:00:03\n",
      "     ------------------                       19.7/42.5 MB 9.5 MB/s eta 0:00:03\n",
      "     -------------------                      20.3/42.5 MB 9.9 MB/s eta 0:00:03\n",
      "     -------------------                     20.8/42.5 MB 10.1 MB/s eta 0:00:03\n",
      "     -------------------                     21.3/42.5 MB 10.1 MB/s eta 0:00:03\n",
      "     -------------------                     21.7/42.5 MB 10.1 MB/s eta 0:00:03\n",
      "     --------------------                    22.1/42.5 MB 10.1 MB/s eta 0:00:03\n",
      "     --------------------                    22.7/42.5 MB 10.2 MB/s eta 0:00:02\n",
      "     ---------------------                   23.3/42.5 MB 10.4 MB/s eta 0:00:02\n",
      "     ---------------------                   23.7/42.5 MB 10.2 MB/s eta 0:00:02\n",
      "     ----------------------                  24.3/42.5 MB 10.2 MB/s eta 0:00:02\n",
      "     ----------------------                  24.5/42.5 MB 10.2 MB/s eta 0:00:02\n",
      "     -----------------------                  25.0/42.5 MB 9.9 MB/s eta 0:00:02\n",
      "     -----------------------                  25.4/42.5 MB 9.9 MB/s eta 0:00:02\n",
      "     -----------------------                 26.0/42.5 MB 10.6 MB/s eta 0:00:02\n",
      "     ------------------------                26.5/42.5 MB 10.6 MB/s eta 0:00:02\n",
      "     ------------------------                27.0/42.5 MB 10.6 MB/s eta 0:00:02\n",
      "     -------------------------               27.4/42.5 MB 10.6 MB/s eta 0:00:02\n",
      "     -------------------------               27.6/42.5 MB 10.1 MB/s eta 0:00:02\n",
      "     -------------------------               28.1/42.5 MB 10.1 MB/s eta 0:00:02\n",
      "     --------------------------              28.3/42.5 MB 10.4 MB/s eta 0:00:02\n",
      "     --------------------------              29.1/42.5 MB 10.6 MB/s eta 0:00:02\n",
      "     ---------------------------             29.5/42.5 MB 10.2 MB/s eta 0:00:02\n",
      "     ---------------------------             29.9/42.5 MB 10.2 MB/s eta 0:00:02\n",
      "     ---------------------------             30.0/42.5 MB 10.1 MB/s eta 0:00:02\n",
      "     ----------------------------             30.3/42.5 MB 9.6 MB/s eta 0:00:02\n",
      "     ----------------------------             30.7/42.5 MB 9.4 MB/s eta 0:00:02\n",
      "     -----------------------------            31.0/42.5 MB 9.2 MB/s eta 0:00:02\n",
      "     -----------------------------            31.4/42.5 MB 9.2 MB/s eta 0:00:02\n",
      "     ------------------------------           31.9/42.5 MB 9.2 MB/s eta 0:00:02\n",
      "     ------------------------------           32.3/42.5 MB 9.2 MB/s eta 0:00:02\n",
      "     ------------------------------           32.6/42.5 MB 9.1 MB/s eta 0:00:02\n",
      "     ------------------------------           32.9/42.5 MB 8.8 MB/s eta 0:00:02\n",
      "     -------------------------------          33.3/42.5 MB 8.8 MB/s eta 0:00:02\n",
      "     -------------------------------          33.8/42.5 MB 8.7 MB/s eta 0:00:01\n",
      "     --------------------------------         34.3/42.5 MB 8.7 MB/s eta 0:00:01\n",
      "     --------------------------------         34.7/42.5 MB 9.0 MB/s eta 0:00:01\n",
      "     --------------------------------         34.9/42.5 MB 9.0 MB/s eta 0:00:01\n",
      "     ---------------------------------        35.4/42.5 MB 8.7 MB/s eta 0:00:01\n",
      "     ---------------------------------        35.8/42.5 MB 8.6 MB/s eta 0:00:01\n",
      "     ----------------------------------       36.2/42.5 MB 8.5 MB/s eta 0:00:01\n",
      "     ----------------------------------       36.7/42.5 MB 8.5 MB/s eta 0:00:01\n",
      "     ----------------------------------       37.2/42.5 MB 8.5 MB/s eta 0:00:01\n",
      "     -----------------------------------      37.5/42.5 MB 8.4 MB/s eta 0:00:01\n",
      "     -----------------------------------      37.7/42.5 MB 8.5 MB/s eta 0:00:01\n",
      "     -----------------------------------      38.1/42.5 MB 8.4 MB/s eta 0:00:01\n",
      "     ------------------------------------     38.5/42.5 MB 8.4 MB/s eta 0:00:01\n",
      "     ------------------------------------     39.0/42.5 MB 8.5 MB/s eta 0:00:01\n",
      "     -------------------------------------    39.5/42.5 MB 8.4 MB/s eta 0:00:01\n",
      "     -------------------------------------    40.0/42.5 MB 8.4 MB/s eta 0:00:01\n",
      "     -------------------------------------    40.1/42.5 MB 8.4 MB/s eta 0:00:01\n",
      "     --------------------------------------   40.5/42.5 MB 8.5 MB/s eta 0:00:01\n",
      "     --------------------------------------   40.8/42.5 MB 8.5 MB/s eta 0:00:01\n",
      "     --------------------------------------   41.3/42.5 MB 8.6 MB/s eta 0:00:01\n",
      "     ---------------------------------------  41.8/42.5 MB 8.6 MB/s eta 0:00:01\n",
      "     ---------------------------------------  42.2/42.5 MB 8.5 MB/s eta 0:00:01\n",
      "     ---------------------------------------  42.5/42.5 MB 8.5 MB/s eta 0:00:01\n",
      "     ---------------------------------------  42.5/42.5 MB 8.5 MB/s eta 0:00:01\n",
      "     ---------------------------------------  42.5/42.5 MB 8.5 MB/s eta 0:00:01\n",
      "     ---------------------------------------  42.5/42.5 MB 8.5 MB/s eta 0:00:01\n",
      "     ---------------------------------------  42.5/42.5 MB 8.5 MB/s eta 0:00:01\n",
      "     ---------------------------------------  42.5/42.5 MB 8.5 MB/s eta 0:00:01\n",
      "     ---------------------------------------  42.5/42.5 MB 8.5 MB/s eta 0:00:01\n",
      "     ---------------------------------------  42.5/42.5 MB 8.5 MB/s eta 0:00:01\n",
      "     ---------------------------------------  42.5/42.5 MB 8.5 MB/s eta 0:00:01\n",
      "     ---------------------------------------  42.5/42.5 MB 8.5 MB/s eta 0:00:01\n",
      "     ---------------------------------------  42.5/42.5 MB 8.5 MB/s eta 0:00:01\n",
      "     ---------------------------------------  42.5/42.5 MB 8.5 MB/s eta 0:00:01\n",
      "     ---------------------------------------  42.5/42.5 MB 8.5 MB/s eta 0:00:01\n",
      "     ---------------------------------------  42.5/42.5 MB 8.5 MB/s eta 0:00:01\n",
      "     ---------------------------------------  42.5/42.5 MB 8.5 MB/s eta 0:00:01\n",
      "     ---------------------------------------  42.5/42.5 MB 8.5 MB/s eta 0:00:01\n",
      "     ---------------------------------------  42.5/42.5 MB 8.5 MB/s eta 0:00:01\n",
      "     ---------------------------------------  42.5/42.5 MB 8.5 MB/s eta 0:00:01\n",
      "     ---------------------------------------  42.5/42.5 MB 8.5 MB/s eta 0:00:01\n",
      "     ---------------------------------------- 42.5/42.5 MB 4.7 MB/s eta 0:00:00\n",
      "Collecting joblib>=1.1.1 (from scikit-learn)\n",
      "  Downloading joblib-1.2.0-py3-none-any.whl (297 kB)\n",
      "                                              0.0/298.0 kB ? eta -:--:--\n",
      "     ------------------------------------  297.0/298.0 kB 17.9 MB/s eta 0:00:01\n",
      "     -------------------------------------- 298.0/298.0 kB 4.6 MB/s eta 0:00:00\n",
      "Collecting threadpoolctl>=2.0.0 (from scikit-learn)\n",
      "  Downloading threadpoolctl-3.1.0-py3-none-any.whl (14 kB)\n",
      "Installing collected packages: threadpoolctl, scipy, joblib, scikit-learn\n",
      "Successfully installed joblib-1.2.0 scikit-learn-1.2.2 scipy-1.10.1 threadpoolctl-3.1.0\n"
     ]
    }
   ],
   "source": [
    "!pip install scikit-learn"
   ]
  },
  {
   "cell_type": "markdown",
   "id": "5ab95128",
   "metadata": {},
   "source": [
    "# LINEAR REGRESSION"
   ]
  },
  {
   "cell_type": "code",
   "execution_count": 21,
   "id": "a6ea3ce1",
   "metadata": {},
   "outputs": [],
   "source": [
    "import numpy as np\n",
    "import pandas as pd\n",
    "import matplotlib.pyplot as plt\n",
    "import seaborn as sns"
   ]
  },
  {
   "cell_type": "code",
   "execution_count": 52,
   "id": "337629fa",
   "metadata": {},
   "outputs": [],
   "source": [
    "df = pd.read_csv(r'C:\\Users\\Nikhileswari Puvvula\\Documents\\datasets\\Salary_Data.csv')"
   ]
  },
  {
   "cell_type": "code",
   "execution_count": 53,
   "id": "44045481",
   "metadata": {},
   "outputs": [
    {
     "data": {
      "text/html": [
       "<div>\n",
       "<style scoped>\n",
       "    .dataframe tbody tr th:only-of-type {\n",
       "        vertical-align: middle;\n",
       "    }\n",
       "\n",
       "    .dataframe tbody tr th {\n",
       "        vertical-align: top;\n",
       "    }\n",
       "\n",
       "    .dataframe thead th {\n",
       "        text-align: right;\n",
       "    }\n",
       "</style>\n",
       "<table border=\"1\" class=\"dataframe\">\n",
       "  <thead>\n",
       "    <tr style=\"text-align: right;\">\n",
       "      <th></th>\n",
       "      <th>YearsExperience</th>\n",
       "      <th>Salary</th>\n",
       "    </tr>\n",
       "  </thead>\n",
       "  <tbody>\n",
       "    <tr>\n",
       "      <th>0</th>\n",
       "      <td>1.1</td>\n",
       "      <td>39343.0</td>\n",
       "    </tr>\n",
       "    <tr>\n",
       "      <th>1</th>\n",
       "      <td>1.3</td>\n",
       "      <td>46205.0</td>\n",
       "    </tr>\n",
       "    <tr>\n",
       "      <th>2</th>\n",
       "      <td>1.5</td>\n",
       "      <td>37731.0</td>\n",
       "    </tr>\n",
       "    <tr>\n",
       "      <th>3</th>\n",
       "      <td>2.0</td>\n",
       "      <td>43525.0</td>\n",
       "    </tr>\n",
       "    <tr>\n",
       "      <th>4</th>\n",
       "      <td>2.2</td>\n",
       "      <td>39891.0</td>\n",
       "    </tr>\n",
       "  </tbody>\n",
       "</table>\n",
       "</div>"
      ],
      "text/plain": [
       "   YearsExperience   Salary\n",
       "0              1.1  39343.0\n",
       "1              1.3  46205.0\n",
       "2              1.5  37731.0\n",
       "3              2.0  43525.0\n",
       "4              2.2  39891.0"
      ]
     },
     "execution_count": 53,
     "metadata": {},
     "output_type": "execute_result"
    }
   ],
   "source": [
    "df.head()"
   ]
  },
  {
   "cell_type": "code",
   "execution_count": 54,
   "id": "7efdbe31",
   "metadata": {},
   "outputs": [
    {
     "data": {
      "text/plain": [
       "YearsExperience    0\n",
       "Salary             0\n",
       "dtype: int64"
      ]
     },
     "execution_count": 54,
     "metadata": {},
     "output_type": "execute_result"
    }
   ],
   "source": [
    "df.isnull().sum()"
   ]
  },
  {
   "cell_type": "code",
   "execution_count": 60,
   "id": "99b88834",
   "metadata": {},
   "outputs": [],
   "source": [
    "x=df.iloc[:,:1].values\n",
    "y=df.iloc[:,-1].values"
   ]
  },
  {
   "cell_type": "code",
   "execution_count": 61,
   "id": "5188f066",
   "metadata": {},
   "outputs": [
    {
     "data": {
      "text/plain": [
       "array([[ 1.1],\n",
       "       [ 1.3],\n",
       "       [ 1.5],\n",
       "       [ 2. ],\n",
       "       [ 2.2],\n",
       "       [ 2.9],\n",
       "       [ 3. ],\n",
       "       [ 3.2],\n",
       "       [ 3.2],\n",
       "       [ 3.7],\n",
       "       [ 3.9],\n",
       "       [ 4. ],\n",
       "       [ 4. ],\n",
       "       [ 4.1],\n",
       "       [ 4.5],\n",
       "       [ 4.9],\n",
       "       [ 5.1],\n",
       "       [ 5.3],\n",
       "       [ 5.9],\n",
       "       [ 6. ],\n",
       "       [ 6.8],\n",
       "       [ 7.1],\n",
       "       [ 7.9],\n",
       "       [ 8.2],\n",
       "       [ 8.7],\n",
       "       [ 9. ],\n",
       "       [ 9.5],\n",
       "       [ 9.6],\n",
       "       [10.3],\n",
       "       [10.5]])"
      ]
     },
     "execution_count": 61,
     "metadata": {},
     "output_type": "execute_result"
    }
   ],
   "source": [
    "x"
   ]
  },
  {
   "cell_type": "code",
   "execution_count": 62,
   "id": "cb50f504",
   "metadata": {},
   "outputs": [
    {
     "data": {
      "text/plain": [
       "array([ 39343.,  46205.,  37731.,  43525.,  39891.,  56642.,  60150.,\n",
       "        54445.,  64445.,  57189.,  63218.,  55794.,  56957.,  57081.,\n",
       "        61111.,  67938.,  66029.,  83088.,  81363.,  93940.,  91738.,\n",
       "        98273., 101302., 113812., 109431., 105582., 116969., 112635.,\n",
       "       122391., 121872.])"
      ]
     },
     "execution_count": 62,
     "metadata": {},
     "output_type": "execute_result"
    }
   ],
   "source": [
    "y"
   ]
  },
  {
   "cell_type": "code",
   "execution_count": 72,
   "id": "ce6cc2a4",
   "metadata": {},
   "outputs": [],
   "source": [
    "from sklearn.model_selection import train_test_split\n",
    "x_train,x_test,y_train,y_test = train_test_split(x,y,test_size=0.1)"
   ]
  },
  {
   "cell_type": "code",
   "execution_count": 73,
   "id": "254d623c",
   "metadata": {},
   "outputs": [],
   "source": [
    "from sklearn.linear_model import LinearRegression\n",
    "reg=LinearRegression()"
   ]
  },
  {
   "cell_type": "code",
   "execution_count": 74,
   "id": "56e3edf6",
   "metadata": {},
   "outputs": [
    {
     "data": {
      "text/html": [
       "<style>#sk-container-id-2 {color: black;background-color: white;}#sk-container-id-2 pre{padding: 0;}#sk-container-id-2 div.sk-toggleable {background-color: white;}#sk-container-id-2 label.sk-toggleable__label {cursor: pointer;display: block;width: 100%;margin-bottom: 0;padding: 0.3em;box-sizing: border-box;text-align: center;}#sk-container-id-2 label.sk-toggleable__label-arrow:before {content: \"▸\";float: left;margin-right: 0.25em;color: #696969;}#sk-container-id-2 label.sk-toggleable__label-arrow:hover:before {color: black;}#sk-container-id-2 div.sk-estimator:hover label.sk-toggleable__label-arrow:before {color: black;}#sk-container-id-2 div.sk-toggleable__content {max-height: 0;max-width: 0;overflow: hidden;text-align: left;background-color: #f0f8ff;}#sk-container-id-2 div.sk-toggleable__content pre {margin: 0.2em;color: black;border-radius: 0.25em;background-color: #f0f8ff;}#sk-container-id-2 input.sk-toggleable__control:checked~div.sk-toggleable__content {max-height: 200px;max-width: 100%;overflow: auto;}#sk-container-id-2 input.sk-toggleable__control:checked~label.sk-toggleable__label-arrow:before {content: \"▾\";}#sk-container-id-2 div.sk-estimator input.sk-toggleable__control:checked~label.sk-toggleable__label {background-color: #d4ebff;}#sk-container-id-2 div.sk-label input.sk-toggleable__control:checked~label.sk-toggleable__label {background-color: #d4ebff;}#sk-container-id-2 input.sk-hidden--visually {border: 0;clip: rect(1px 1px 1px 1px);clip: rect(1px, 1px, 1px, 1px);height: 1px;margin: -1px;overflow: hidden;padding: 0;position: absolute;width: 1px;}#sk-container-id-2 div.sk-estimator {font-family: monospace;background-color: #f0f8ff;border: 1px dotted black;border-radius: 0.25em;box-sizing: border-box;margin-bottom: 0.5em;}#sk-container-id-2 div.sk-estimator:hover {background-color: #d4ebff;}#sk-container-id-2 div.sk-parallel-item::after {content: \"\";width: 100%;border-bottom: 1px solid gray;flex-grow: 1;}#sk-container-id-2 div.sk-label:hover label.sk-toggleable__label {background-color: #d4ebff;}#sk-container-id-2 div.sk-serial::before {content: \"\";position: absolute;border-left: 1px solid gray;box-sizing: border-box;top: 0;bottom: 0;left: 50%;z-index: 0;}#sk-container-id-2 div.sk-serial {display: flex;flex-direction: column;align-items: center;background-color: white;padding-right: 0.2em;padding-left: 0.2em;position: relative;}#sk-container-id-2 div.sk-item {position: relative;z-index: 1;}#sk-container-id-2 div.sk-parallel {display: flex;align-items: stretch;justify-content: center;background-color: white;position: relative;}#sk-container-id-2 div.sk-item::before, #sk-container-id-2 div.sk-parallel-item::before {content: \"\";position: absolute;border-left: 1px solid gray;box-sizing: border-box;top: 0;bottom: 0;left: 50%;z-index: -1;}#sk-container-id-2 div.sk-parallel-item {display: flex;flex-direction: column;z-index: 1;position: relative;background-color: white;}#sk-container-id-2 div.sk-parallel-item:first-child::after {align-self: flex-end;width: 50%;}#sk-container-id-2 div.sk-parallel-item:last-child::after {align-self: flex-start;width: 50%;}#sk-container-id-2 div.sk-parallel-item:only-child::after {width: 0;}#sk-container-id-2 div.sk-dashed-wrapped {border: 1px dashed gray;margin: 0 0.4em 0.5em 0.4em;box-sizing: border-box;padding-bottom: 0.4em;background-color: white;}#sk-container-id-2 div.sk-label label {font-family: monospace;font-weight: bold;display: inline-block;line-height: 1.2em;}#sk-container-id-2 div.sk-label-container {text-align: center;}#sk-container-id-2 div.sk-container {/* jupyter's `normalize.less` sets `[hidden] { display: none; }` but bootstrap.min.css set `[hidden] { display: none !important; }` so we also need the `!important` here to be able to override the default hidden behavior on the sphinx rendered scikit-learn.org. See: https://github.com/scikit-learn/scikit-learn/issues/21755 */display: inline-block !important;position: relative;}#sk-container-id-2 div.sk-text-repr-fallback {display: none;}</style><div id=\"sk-container-id-2\" class=\"sk-top-container\"><div class=\"sk-text-repr-fallback\"><pre>LinearRegression()</pre><b>In a Jupyter environment, please rerun this cell to show the HTML representation or trust the notebook. <br />On GitHub, the HTML representation is unable to render, please try loading this page with nbviewer.org.</b></div><div class=\"sk-container\" hidden><div class=\"sk-item\"><div class=\"sk-estimator sk-toggleable\"><input class=\"sk-toggleable__control sk-hidden--visually\" id=\"sk-estimator-id-2\" type=\"checkbox\" checked><label for=\"sk-estimator-id-2\" class=\"sk-toggleable__label sk-toggleable__label-arrow\">LinearRegression</label><div class=\"sk-toggleable__content\"><pre>LinearRegression()</pre></div></div></div></div></div>"
      ],
      "text/plain": [
       "LinearRegression()"
      ]
     },
     "execution_count": 74,
     "metadata": {},
     "output_type": "execute_result"
    }
   ],
   "source": [
    "reg.fit(x_train,y_train)"
   ]
  },
  {
   "cell_type": "code",
   "execution_count": 75,
   "id": "be3bc47b",
   "metadata": {},
   "outputs": [],
   "source": [
    "y_pred= reg.predict(x_test)"
   ]
  },
  {
   "cell_type": "code",
   "execution_count": 79,
   "id": "84b2460e",
   "metadata": {},
   "outputs": [
    {
     "data": {
      "text/plain": [
       "Text(0.5, 0, 'years of experience')"
      ]
     },
     "execution_count": 79,
     "metadata": {},
     "output_type": "execute_result"
    },
    {
     "data": {
      "image/png": "[encoded data removed]",
      "text/plain": [
       "<Figure size 640x480 with 1 Axes>"
      ]
     },
     "metadata": {},
     "output_type": "display_data"
    }
   ],
   "source": [
    "plt.scatter(x_train,y_train,color='red',marker='*')\n",
    "plt.plot(x_train,reg.predict(x_train),color='blue')\n",
    "plt.ylabel('salary')\n",
    "plt.xlabel('years of experience')"
   ]
  },
  {
   "cell_type": "code",
   "execution_count": 81,
   "id": "6098979b",
   "metadata": {},
   "outputs": [
    {
     "data": {
      "text/plain": [
       "[<matplotlib.lines.Line2D at 0x1e4bafeaad0>]"
      ]
     },
     "execution_count": 81,
     "metadata": {},
     "output_type": "execute_result"
    },
    {
     "data": {
      "image/png": "[encoded data removed]",
      "text/plain": [
       "<Figure size 640x480 with 1 Axes>"
      ]
     },
     "metadata": {},
     "output_type": "display_data"
    }
   ],
   "source": [
    "plt.scatter(x_test,y_test,color=\"red\",marker=\"*\")\n",
    "plt.plot(x_test,reg.predict(x_test),color=\"blue\")"
   ]
  },
  {
   "cell_type": "markdown",
   "id": "4cb453c5",
   "metadata": {},
   "source": [
    "# MULTIPLE LINEAR REGRESSION"
   ]
  },
  {
   "cell_type": "code",
   "execution_count": 82,
   "id": "d6dd1d0c",
   "metadata": {},
   "outputs": [],
   "source": [
    "import numpy as np\n",
    "import pandas as pd\n",
    "import matplotlib.pyplot as plt"
   ]
  },
  {
   "cell_type": "code",
   "execution_count": 84,
   "id": "4cb27f77",
   "metadata": {},
   "outputs": [],
   "source": [
    "df = pd.read_csv(r\"C:\\Users\\Nikhileswari Puvvula\\Documents\\datasets\\50_Startups.csv\")"
   ]
  },
  {
   "cell_type": "code",
   "execution_count": 85,
   "id": "9e5cf57a",
   "metadata": {},
   "outputs": [
    {
     "data": {
      "text/html": [
       "<div>\n",
       "<style scoped>\n",
       "    .dataframe tbody tr th:only-of-type {\n",
       "        vertical-align: middle;\n",
       "    }\n",
       "\n",
       "    .dataframe tbody tr th {\n",
       "        vertical-align: top;\n",
       "    }\n",
       "\n",
       "    .dataframe thead th {\n",
       "        text-align: right;\n",
       "    }\n",
       "</style>\n",
       "<table border=\"1\" class=\"dataframe\">\n",
       "  <thead>\n",
       "    <tr style=\"text-align: right;\">\n",
       "      <th></th>\n",
       "      <th>R&amp;D Spend</th>\n",
       "      <th>Administration</th>\n",
       "      <th>Marketing Spend</th>\n",
       "      <th>State</th>\n",
       "      <th>Profit</th>\n",
       "    </tr>\n",
       "  </thead>\n",
       "  <tbody>\n",
       "    <tr>\n",
       "      <th>0</th>\n",
       "      <td>165349.20</td>\n",
       "      <td>136897.80</td>\n",
       "      <td>471784.10</td>\n",
       "      <td>New York</td>\n",
       "      <td>192261.83</td>\n",
       "    </tr>\n",
       "    <tr>\n",
       "      <th>1</th>\n",
       "      <td>162597.70</td>\n",
       "      <td>151377.59</td>\n",
       "      <td>443898.53</td>\n",
       "      <td>California</td>\n",
       "      <td>191792.06</td>\n",
       "    </tr>\n",
       "    <tr>\n",
       "      <th>2</th>\n",
       "      <td>153441.51</td>\n",
       "      <td>101145.55</td>\n",
       "      <td>407934.54</td>\n",
       "      <td>Florida</td>\n",
       "      <td>191050.39</td>\n",
       "    </tr>\n",
       "    <tr>\n",
       "      <th>3</th>\n",
       "      <td>144372.41</td>\n",
       "      <td>118671.85</td>\n",
       "      <td>383199.62</td>\n",
       "      <td>New York</td>\n",
       "      <td>182901.99</td>\n",
       "    </tr>\n",
       "    <tr>\n",
       "      <th>4</th>\n",
       "      <td>142107.34</td>\n",
       "      <td>91391.77</td>\n",
       "      <td>366168.42</td>\n",
       "      <td>Florida</td>\n",
       "      <td>166187.94</td>\n",
       "    </tr>\n",
       "  </tbody>\n",
       "</table>\n",
       "</div>"
      ],
      "text/plain": [
       "   R&D Spend  Administration  Marketing Spend       State     Profit\n",
       "0  165349.20       136897.80        471784.10    New York  192261.83\n",
       "1  162597.70       151377.59        443898.53  California  191792.06\n",
       "2  153441.51       101145.55        407934.54     Florida  191050.39\n",
       "3  144372.41       118671.85        383199.62    New York  182901.99\n",
       "4  142107.34        91391.77        366168.42     Florida  166187.94"
      ]
     },
     "execution_count": 85,
     "metadata": {},
     "output_type": "execute_result"
    }
   ],
   "source": [
    "df.head()"
   ]
  },
  {
   "cell_type": "code",
   "execution_count": 86,
   "id": "004c5260",
   "metadata": {},
   "outputs": [
    {
     "data": {
      "text/plain": [
       "R&D Spend          0\n",
       "Administration     0\n",
       "Marketing Spend    0\n",
       "State              0\n",
       "Profit             0\n",
       "dtype: int64"
      ]
     },
     "execution_count": 86,
     "metadata": {},
     "output_type": "execute_result"
    }
   ],
   "source": [
    "df.isnull().sum()"
   ]
  },
  {
   "cell_type": "code",
   "execution_count": 88,
   "id": "0338e1bd",
   "metadata": {},
   "outputs": [],
   "source": [
    "x = df.iloc[:,:-1].values\n",
    "y = df.iloc[:,-1].values"
   ]
  },
  {
   "cell_type": "code",
   "execution_count": 90,
   "id": "3d59d9fa",
   "metadata": {},
   "outputs": [],
   "source": [
    "from sklearn.compose import ColumnTransformer\n",
    "from sklearn.preprocessing import OneHotEncoder\n",
    "ct = ColumnTransformer(transformers=[('encode',OneHotEncoder(),[3])],remainder='passthrough')\n",
    "x = ct.fit_transform(x)\n"
   ]
  },
  {
   "cell_type": "code",
   "execution_count": 91,
   "id": "12a09f31",
   "metadata": {},
   "outputs": [
    {
     "data": {
      "text/plain": [
       "array([[0.0, 0.0, 1.0, 165349.2, 136897.8, 471784.1],\n",
       "       [1.0, 0.0, 0.0, 162597.7, 151377.59, 443898.53],\n",
       "       [0.0, 1.0, 0.0, 153441.51, 101145.55, 407934.54],\n",
       "       [0.0, 0.0, 1.0, 144372.41, 118671.85, 383199.62],\n",
       "       [0.0, 1.0, 0.0, 142107.34, 91391.77, 366168.42],\n",
       "       [0.0, 0.0, 1.0, 131876.9, 99814.71, 362861.36],\n",
       "       [1.0, 0.0, 0.0, 134615.46, 147198.87, 127716.82],\n",
       "       [0.0, 1.0, 0.0, 130298.13, 145530.06, 323876.68],\n",
       "       [0.0, 0.0, 1.0, 120542.52, 148718.95, 311613.29],\n",
       "       [1.0, 0.0, 0.0, 123334.88, 108679.17, 304981.62],\n",
       "       [0.0, 1.0, 0.0, 101913.08, 110594.11, 229160.95],\n",
       "       [1.0, 0.0, 0.0, 100671.96, 91790.61, 249744.55],\n",
       "       [0.0, 1.0, 0.0, 93863.75, 127320.38, 249839.44],\n",
       "       [1.0, 0.0, 0.0, 91992.39, 135495.07, 252664.93],\n",
       "       [0.0, 1.0, 0.0, 119943.24, 156547.42, 256512.92],\n",
       "       [0.0, 0.0, 1.0, 114523.61, 122616.84, 261776.23],\n",
       "       [1.0, 0.0, 0.0, 78013.11, 121597.55, 264346.06],\n",
       "       [0.0, 0.0, 1.0, 94657.16, 145077.58, 282574.31],\n",
       "       [0.0, 1.0, 0.0, 91749.16, 114175.79, 294919.57],\n",
       "       [0.0, 0.0, 1.0, 86419.7, 153514.11, 0.0],\n",
       "       [1.0, 0.0, 0.0, 76253.86, 113867.3, 298664.47],\n",
       "       [0.0, 0.0, 1.0, 78389.47, 153773.43, 299737.29],\n",
       "       [0.0, 1.0, 0.0, 73994.56, 122782.75, 303319.26],\n",
       "       [0.0, 1.0, 0.0, 67532.53, 105751.03, 304768.73],\n",
       "       [0.0, 0.0, 1.0, 77044.01, 99281.34, 140574.81],\n",
       "       [1.0, 0.0, 0.0, 64664.71, 139553.16, 137962.62],\n",
       "       [0.0, 1.0, 0.0, 75328.87, 144135.98, 134050.07],\n",
       "       [0.0, 0.0, 1.0, 72107.6, 127864.55, 353183.81],\n",
       "       [0.0, 1.0, 0.0, 66051.52, 182645.56, 118148.2],\n",
       "       [0.0, 0.0, 1.0, 65605.48, 153032.06, 107138.38],\n",
       "       [0.0, 1.0, 0.0, 61994.48, 115641.28, 91131.24],\n",
       "       [0.0, 0.0, 1.0, 61136.38, 152701.92, 88218.23],\n",
       "       [1.0, 0.0, 0.0, 63408.86, 129219.61, 46085.25],\n",
       "       [0.0, 1.0, 0.0, 55493.95, 103057.49, 214634.81],\n",
       "       [1.0, 0.0, 0.0, 46426.07, 157693.92, 210797.67],\n",
       "       [0.0, 0.0, 1.0, 46014.02, 85047.44, 205517.64],\n",
       "       [0.0, 1.0, 0.0, 28663.76, 127056.21, 201126.82],\n",
       "       [1.0, 0.0, 0.0, 44069.95, 51283.14, 197029.42],\n",
       "       [0.0, 0.0, 1.0, 20229.59, 65947.93, 185265.1],\n",
       "       [1.0, 0.0, 0.0, 38558.51, 82982.09, 174999.3],\n",
       "       [1.0, 0.0, 0.0, 28754.33, 118546.05, 172795.67],\n",
       "       [0.0, 1.0, 0.0, 27892.92, 84710.77, 164470.71],\n",
       "       [1.0, 0.0, 0.0, 23640.93, 96189.63, 148001.11],\n",
       "       [0.0, 0.0, 1.0, 15505.73, 127382.3, 35534.17],\n",
       "       [1.0, 0.0, 0.0, 22177.74, 154806.14, 28334.72],\n",
       "       [0.0, 0.0, 1.0, 1000.23, 124153.04, 1903.93],\n",
       "       [0.0, 1.0, 0.0, 1315.46, 115816.21, 297114.46],\n",
       "       [1.0, 0.0, 0.0, 0.0, 135426.92, 0.0],\n",
       "       [0.0, 0.0, 1.0, 542.05, 51743.15, 0.0],\n",
       "       [1.0, 0.0, 0.0, 0.0, 116983.8, 45173.06]], dtype=object)"
      ]
     },
     "execution_count": 91,
     "metadata": {},
     "output_type": "execute_result"
    }
   ],
   "source": [
    "x\n"
   ]
  },
  {
   "cell_type": "code",
   "execution_count": 92,
   "id": "2f990015",
   "metadata": {},
   "outputs": [],
   "source": [
    "x = x[: , 1:]"
   ]
  },
  {
   "cell_type": "code",
   "execution_count": 93,
   "id": "2289f207",
   "metadata": {},
   "outputs": [
    {
     "data": {
      "text/plain": [
       "array([[0.0, 1.0, 165349.2, 136897.8, 471784.1],\n",
       "       [0.0, 0.0, 162597.7, 151377.59, 443898.53],\n",
       "       [1.0, 0.0, 153441.51, 101145.55, 407934.54],\n",
       "       [0.0, 1.0, 144372.41, 118671.85, 383199.62],\n",
       "       [1.0, 0.0, 142107.34, 91391.77, 366168.42],\n",
       "       [0.0, 1.0, 131876.9, 99814.71, 362861.36],\n",
       "       [0.0, 0.0, 134615.46, 147198.87, 127716.82],\n",
       "       [1.0, 0.0, 130298.13, 145530.06, 323876.68],\n",
       "       [0.0, 1.0, 120542.52, 148718.95, 311613.29],\n",
       "       [0.0, 0.0, 123334.88, 108679.17, 304981.62],\n",
       "       [1.0, 0.0, 101913.08, 110594.11, 229160.95],\n",
       "       [0.0, 0.0, 100671.96, 91790.61, 249744.55],\n",
       "       [1.0, 0.0, 93863.75, 127320.38, 249839.44],\n",
       "       [0.0, 0.0, 91992.39, 135495.07, 252664.93],\n",
       "       [1.0, 0.0, 119943.24, 156547.42, 256512.92],\n",
       "       [0.0, 1.0, 114523.61, 122616.84, 261776.23],\n",
       "       [0.0, 0.0, 78013.11, 121597.55, 264346.06],\n",
       "       [0.0, 1.0, 94657.16, 145077.58, 282574.31],\n",
       "       [1.0, 0.0, 91749.16, 114175.79, 294919.57],\n",
       "       [0.0, 1.0, 86419.7, 153514.11, 0.0],\n",
       "       [0.0, 0.0, 76253.86, 113867.3, 298664.47],\n",
       "       [0.0, 1.0, 78389.47, 153773.43, 299737.29],\n",
       "       [1.0, 0.0, 73994.56, 122782.75, 303319.26],\n",
       "       [1.0, 0.0, 67532.53, 105751.03, 304768.73],\n",
       "       [0.0, 1.0, 77044.01, 99281.34, 140574.81],\n",
       "       [0.0, 0.0, 64664.71, 139553.16, 137962.62],\n",
       "       [1.0, 0.0, 75328.87, 144135.98, 134050.07],\n",
       "       [0.0, 1.0, 72107.6, 127864.55, 353183.81],\n",
       "       [1.0, 0.0, 66051.52, 182645.56, 118148.2],\n",
       "       [0.0, 1.0, 65605.48, 153032.06, 107138.38],\n",
       "       [1.0, 0.0, 61994.48, 115641.28, 91131.24],\n",
       "       [0.0, 1.0, 61136.38, 152701.92, 88218.23],\n",
       "       [0.0, 0.0, 63408.86, 129219.61, 46085.25],\n",
       "       [1.0, 0.0, 55493.95, 103057.49, 214634.81],\n",
       "       [0.0, 0.0, 46426.07, 157693.92, 210797.67],\n",
       "       [0.0, 1.0, 46014.02, 85047.44, 205517.64],\n",
       "       [1.0, 0.0, 28663.76, 127056.21, 201126.82],\n",
       "       [0.0, 0.0, 44069.95, 51283.14, 197029.42],\n",
       "       [0.0, 1.0, 20229.59, 65947.93, 185265.1],\n",
       "       [0.0, 0.0, 38558.51, 82982.09, 174999.3],\n",
       "       [0.0, 0.0, 28754.33, 118546.05, 172795.67],\n",
       "       [1.0, 0.0, 27892.92, 84710.77, 164470.71],\n",
       "       [0.0, 0.0, 23640.93, 96189.63, 148001.11],\n",
       "       [0.0, 1.0, 15505.73, 127382.3, 35534.17],\n",
       "       [0.0, 0.0, 22177.74, 154806.14, 28334.72],\n",
       "       [0.0, 1.0, 1000.23, 124153.04, 1903.93],\n",
       "       [1.0, 0.0, 1315.46, 115816.21, 297114.46],\n",
       "       [0.0, 0.0, 0.0, 135426.92, 0.0],\n",
       "       [0.0, 1.0, 542.05, 51743.15, 0.0],\n",
       "       [0.0, 0.0, 0.0, 116983.8, 45173.06]], dtype=object)"
      ]
     },
     "execution_count": 93,
     "metadata": {},
     "output_type": "execute_result"
    }
   ],
   "source": [
    "x"
   ]
  },
  {
   "cell_type": "code",
   "execution_count": 94,
   "id": "03d3fb73",
   "metadata": {},
   "outputs": [],
   "source": [
    "from sklearn.model_selection import train_test_split\n",
    "x_train,x_test,y_train,y_test = train_test_split(x,y,train_size=0.2)"
   ]
  },
  {
   "cell_type": "code",
   "execution_count": 95,
   "id": "cf0d4f36",
   "metadata": {},
   "outputs": [
    {
     "data": {
      "text/html": [
       "<style>#sk-container-id-3 {color: black;background-color: white;}#sk-container-id-3 pre{padding: 0;}#sk-container-id-3 div.sk-toggleable {background-color: white;}#sk-container-id-3 label.sk-toggleable__label {cursor: pointer;display: block;width: 100%;margin-bottom: 0;padding: 0.3em;box-sizing: border-box;text-align: center;}#sk-container-id-3 label.sk-toggleable__label-arrow:before {content: \"▸\";float: left;margin-right: 0.25em;color: #696969;}#sk-container-id-3 label.sk-toggleable__label-arrow:hover:before {color: black;}#sk-container-id-3 div.sk-estimator:hover label.sk-toggleable__label-arrow:before {color: black;}#sk-container-id-3 div.sk-toggleable__content {max-height: 0;max-width: 0;overflow: hidden;text-align: left;background-color: #f0f8ff;}#sk-container-id-3 div.sk-toggleable__content pre {margin: 0.2em;color: black;border-radius: 0.25em;background-color: #f0f8ff;}#sk-container-id-3 input.sk-toggleable__control:checked~div.sk-toggleable__content {max-height: 200px;max-width: 100%;overflow: auto;}#sk-container-id-3 input.sk-toggleable__control:checked~label.sk-toggleable__label-arrow:before {content: \"▾\";}#sk-container-id-3 div.sk-estimator input.sk-toggleable__control:checked~label.sk-toggleable__label {background-color: #d4ebff;}#sk-container-id-3 div.sk-label input.sk-toggleable__control:checked~label.sk-toggleable__label {background-color: #d4ebff;}#sk-container-id-3 input.sk-hidden--visually {border: 0;clip: rect(1px 1px 1px 1px);clip: rect(1px, 1px, 1px, 1px);height: 1px;margin: -1px;overflow: hidden;padding: 0;position: absolute;width: 1px;}#sk-container-id-3 div.sk-estimator {font-family: monospace;background-color: #f0f8ff;border: 1px dotted black;border-radius: 0.25em;box-sizing: border-box;margin-bottom: 0.5em;}#sk-container-id-3 div.sk-estimator:hover {background-color: #d4ebff;}#sk-container-id-3 div.sk-parallel-item::after {content: \"\";width: 100%;border-bottom: 1px solid gray;flex-grow: 1;}#sk-container-id-3 div.sk-label:hover label.sk-toggleable__label {background-color: #d4ebff;}#sk-container-id-3 div.sk-serial::before {content: \"\";position: absolute;border-left: 1px solid gray;box-sizing: border-box;top: 0;bottom: 0;left: 50%;z-index: 0;}#sk-container-id-3 div.sk-serial {display: flex;flex-direction: column;align-items: center;background-color: white;padding-right: 0.2em;padding-left: 0.2em;position: relative;}#sk-container-id-3 div.sk-item {position: relative;z-index: 1;}#sk-container-id-3 div.sk-parallel {display: flex;align-items: stretch;justify-content: center;background-color: white;position: relative;}#sk-container-id-3 div.sk-item::before, #sk-container-id-3 div.sk-parallel-item::before {content: \"\";position: absolute;border-left: 1px solid gray;box-sizing: border-box;top: 0;bottom: 0;left: 50%;z-index: -1;}#sk-container-id-3 div.sk-parallel-item {display: flex;flex-direction: column;z-index: 1;position: relative;background-color: white;}#sk-container-id-3 div.sk-parallel-item:first-child::after {align-self: flex-end;width: 50%;}#sk-container-id-3 div.sk-parallel-item:last-child::after {align-self: flex-start;width: 50%;}#sk-container-id-3 div.sk-parallel-item:only-child::after {width: 0;}#sk-container-id-3 div.sk-dashed-wrapped {border: 1px dashed gray;margin: 0 0.4em 0.5em 0.4em;box-sizing: border-box;padding-bottom: 0.4em;background-color: white;}#sk-container-id-3 div.sk-label label {font-family: monospace;font-weight: bold;display: inline-block;line-height: 1.2em;}#sk-container-id-3 div.sk-label-container {text-align: center;}#sk-container-id-3 div.sk-container {/* jupyter's `normalize.less` sets `[hidden] { display: none; }` but bootstrap.min.css set `[hidden] { display: none !important; }` so we also need the `!important` here to be able to override the default hidden behavior on the sphinx rendered scikit-learn.org. See: https://github.com/scikit-learn/scikit-learn/issues/21755 */display: inline-block !important;position: relative;}#sk-container-id-3 div.sk-text-repr-fallback {display: none;}</style><div id=\"sk-container-id-3\" class=\"sk-top-container\"><div class=\"sk-text-repr-fallback\"><pre>LinearRegression()</pre><b>In a Jupyter environment, please rerun this cell to show the HTML representation or trust the notebook. <br />On GitHub, the HTML representation is unable to render, please try loading this page with nbviewer.org.</b></div><div class=\"sk-container\" hidden><div class=\"sk-item\"><div class=\"sk-estimator sk-toggleable\"><input class=\"sk-toggleable__control sk-hidden--visually\" id=\"sk-estimator-id-3\" type=\"checkbox\" checked><label for=\"sk-estimator-id-3\" class=\"sk-toggleable__label sk-toggleable__label-arrow\">LinearRegression</label><div class=\"sk-toggleable__content\"><pre>LinearRegression()</pre></div></div></div></div></div>"
      ],
      "text/plain": [
       "LinearRegression()"
      ]
     },
     "execution_count": 95,
     "metadata": {},
     "output_type": "execute_result"
    }
   ],
   "source": [
    "from sklearn.linear_model import LinearRegression\n",
    "reg = LinearRegression()\n",
    "reg.fit(x_train,y_train)"
   ]
  },
  {
   "cell_type": "code",
   "execution_count": 96,
   "id": "f18e1ad0",
   "metadata": {},
   "outputs": [],
   "source": [
    "y_pred = reg.predict(x_test)"
   ]
  },
  {
   "cell_type": "markdown",
   "id": "61e5d7ff",
   "metadata": {},
   "source": [
    "# for measuring performance"
   ]
  },
  {
   "cell_type": "code",
   "execution_count": 100,
   "id": "27472555",
   "metadata": {},
   "outputs": [
    {
     "data": {
      "text/plain": [
       "0.9016832440730141"
      ]
     },
     "execution_count": 100,
     "metadata": {},
     "output_type": "execute_result"
    }
   ],
   "source": [
    "from sklearn.metrics import r2_score\n",
    "r2_score(y_test ,y_pred)"
   ]
  },
  {
   "cell_type": "code",
   "execution_count": 101,
   "id": "9cd39efb",
   "metadata": {},
   "outputs": [
    {
     "data": {
      "text/plain": [
       "array([ 69329.76774278, 145233.41579229, 122434.07925466,  88875.90042273,\n",
       "       157714.66327918, 124091.94629793, 127994.44971335, 187274.8843136 ,\n",
       "       166935.12717158, 101941.69554142, 105020.92895026,  99657.43406596,\n",
       "       149229.39098252, 136981.05798631,  49470.86064117, 123768.99958534,\n",
       "       143416.94732283, 135615.66483767, 115556.21338152,  91410.47146965,\n",
       "        44718.95609196, 100039.9037676 , 120695.48224406, 120297.94989228,\n",
       "        50403.16109191, 162467.83253056, 176560.87321017,  88037.44941474,\n",
       "       154732.529666  ,  40905.43793653,  84274.72535331,  95115.34784505,\n",
       "        75244.39690174,  93578.39833453, 187725.60591675,  98166.08013853,\n",
       "        84770.35048546, 135659.45902501,  37957.68063213,  92852.29569966])"
      ]
     },
     "execution_count": 101,
     "metadata": {},
     "output_type": "execute_result"
    }
   ],
   "source": [
    "y_pred\n"
   ]
  },
  {
   "cell_type": "code",
   "execution_count": 102,
   "id": "fd25749f",
   "metadata": {},
   "outputs": [
    {
     "data": {
      "text/plain": [
       "array([ 81229.06, 156122.51, 118474.03, 101004.64, 156991.12, 110352.25,\n",
       "       134307.35, 191050.39, 182901.99, 108552.04,  96778.92, 107404.34,\n",
       "       132602.65, 146121.95,  14681.4 , 125370.37, 152211.77, 144259.4 ,\n",
       "       105008.31,  97427.84,  42559.73, 103282.38, 108733.99, 126992.93,\n",
       "        69758.98, 155752.6 , 166187.94,  81005.76, 149759.96,  35673.41,\n",
       "        97483.56,  89949.14,  49490.75, 122776.86, 192261.83,  99937.59,\n",
       "        90708.19, 124266.9 ,  64926.08,  96712.8 ])"
      ]
     },
     "execution_count": 102,
     "metadata": {},
     "output_type": "execute_result"
    }
   ],
   "source": [
    "y_test"
   ]
  },
  {
   "cell_type": "code",
   "execution_count": null,
   "id": "0f89259b",
   "metadata": {},
   "outputs": [],
   "source": []
  }
 ],
 "metadata": {
  "kernelspec": {
   "display_name": "Python 3 (ipykernel)",
   "language": "python",
   "name": "python3"
  },
  "language_info": {
   "codemirror_mode": {
    "name": "ipython",
    "version": 3
   },
   "file_extension": ".py",
   "mimetype": "text/x-python",
   "name": "python",
   "nbconvert_exporter": "python",
   "pygments_lexer": "ipython3",
   "version": "3.10.7"
  }
 },
 "nbformat": 4,
 "nbformat_minor": 5
}
